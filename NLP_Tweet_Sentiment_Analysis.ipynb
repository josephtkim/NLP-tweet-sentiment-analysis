{
  "nbformat": 4,
  "nbformat_minor": 0,
  "metadata": {
    "colab": {
      "provenance": [],
      "gpuType": "T4"
    },
    "kernelspec": {
      "name": "python3",
      "display_name": "Python 3"
    },
    "language_info": {
      "name": "python"
    },
    "accelerator": "GPU",
    "gpuClass": "standard"
  },
  "cells": [
    {
      "cell_type": "markdown",
      "source": [
        "This project utilizes Transformer-based encoders to classify tweet sentiment as positive or negative. \n",
        "\n",
        "It utilizes the Sentiment140 dataset http://help.sentiment140.com/for-students. For this project I only used the train.csv data. I split a subset of the data into train and test data."
      ],
      "metadata": {
        "id": "nEtrcJQNBaGK"
      }
    },
    {
      "cell_type": "markdown",
      "source": [
        "### Imports"
      ],
      "metadata": {
        "id": "p2Qf6r63B6rL"
      }
    },
    {
      "cell_type": "code",
      "execution_count": 1,
      "metadata": {
        "id": "uU5nisKtAejy"
      },
      "outputs": [],
      "source": [
        "import matplotlib.pyplot as plt\n",
        "import numpy as np\n",
        "import pandas as pd\n",
        "import seaborn as sns\n",
        "import tensorflow as tf\n",
        "import tensorflow.keras as keras\n",
        "from tensorflow.keras import layers\n",
        "\n",
        "from sklearn.metrics import accuracy_score, auc, classification_report, confusion_matrix, roc_curve\n",
        "from sklearn.model_selection import train_test_split\n",
        "\n",
        "%matplotlib inline"
      ]
    },
    {
      "cell_type": "markdown",
      "source": [
        "### EDA and Data preparation"
      ],
      "metadata": {
        "id": "z8pdvJHQCB2M"
      }
    },
    {
      "cell_type": "code",
      "execution_count": 2,
      "metadata": {
        "id": "Ct9Q-zfA7waA"
      },
      "outputs": [],
      "source": [
        "DIR = \"drive/MyDrive/Colab Notebooks/Projects/NLP Tweets/\""
      ]
    },
    {
      "cell_type": "code",
      "execution_count": 3,
      "metadata": {
        "id": "yXml4Z915uk0"
      },
      "outputs": [],
      "source": [
        "colnames = ['label', 'time', 'date', 'query', 'username', 'text']"
      ]
    },
    {
      "cell_type": "code",
      "execution_count": 6,
      "metadata": {
        "id": "lmfOLJyL508v"
      },
      "outputs": [],
      "source": [
        "df = pd.read_csv(DIR + \"training.csv\", names=colnames, encoding='latin-1')"
      ]
    },
    {
      "cell_type": "code",
      "execution_count": 7,
      "metadata": {
        "colab": {
          "base_uri": "https://localhost:8080/",
          "height": 337
        },
        "id": "lriVFJd19kBT",
        "outputId": "e9295d88-7da6-4d5e-9206-602de40ebce7"
      },
      "outputs": [
        {
          "output_type": "execute_result",
          "data": {
            "text/plain": [
              "   label        time                          date     query         username  \\\n",
              "0      0  1467810369  Mon Apr 06 22:19:45 PDT 2009  NO_QUERY  _TheSpecialOne_   \n",
              "1      0  1467810672  Mon Apr 06 22:19:49 PDT 2009  NO_QUERY    scotthamilton   \n",
              "2      0  1467810917  Mon Apr 06 22:19:53 PDT 2009  NO_QUERY         mattycus   \n",
              "3      0  1467811184  Mon Apr 06 22:19:57 PDT 2009  NO_QUERY          ElleCTF   \n",
              "4      0  1467811193  Mon Apr 06 22:19:57 PDT 2009  NO_QUERY           Karoli   \n",
              "\n",
              "                                                text  \n",
              "0  @switchfoot http://twitpic.com/2y1zl - Awww, t...  \n",
              "1  is upset that he can't update his Facebook by ...  \n",
              "2  @Kenichan I dived many times for the ball. Man...  \n",
              "3    my whole body feels itchy and like its on fire   \n",
              "4  @nationwideclass no, it's not behaving at all....  "
            ],
            "text/html": [
              "\n",
              "  <div id=\"df-90451138-932d-446a-b281-c10b8733728b\">\n",
              "    <div class=\"colab-df-container\">\n",
              "      <div>\n",
              "<style scoped>\n",
              "    .dataframe tbody tr th:only-of-type {\n",
              "        vertical-align: middle;\n",
              "    }\n",
              "\n",
              "    .dataframe tbody tr th {\n",
              "        vertical-align: top;\n",
              "    }\n",
              "\n",
              "    .dataframe thead th {\n",
              "        text-align: right;\n",
              "    }\n",
              "</style>\n",
              "<table border=\"1\" class=\"dataframe\">\n",
              "  <thead>\n",
              "    <tr style=\"text-align: right;\">\n",
              "      <th></th>\n",
              "      <th>label</th>\n",
              "      <th>time</th>\n",
              "      <th>date</th>\n",
              "      <th>query</th>\n",
              "      <th>username</th>\n",
              "      <th>text</th>\n",
              "    </tr>\n",
              "  </thead>\n",
              "  <tbody>\n",
              "    <tr>\n",
              "      <th>0</th>\n",
              "      <td>0</td>\n",
              "      <td>1467810369</td>\n",
              "      <td>Mon Apr 06 22:19:45 PDT 2009</td>\n",
              "      <td>NO_QUERY</td>\n",
              "      <td>_TheSpecialOne_</td>\n",
              "      <td>@switchfoot http://twitpic.com/2y1zl - Awww, t...</td>\n",
              "    </tr>\n",
              "    <tr>\n",
              "      <th>1</th>\n",
              "      <td>0</td>\n",
              "      <td>1467810672</td>\n",
              "      <td>Mon Apr 06 22:19:49 PDT 2009</td>\n",
              "      <td>NO_QUERY</td>\n",
              "      <td>scotthamilton</td>\n",
              "      <td>is upset that he can't update his Facebook by ...</td>\n",
              "    </tr>\n",
              "    <tr>\n",
              "      <th>2</th>\n",
              "      <td>0</td>\n",
              "      <td>1467810917</td>\n",
              "      <td>Mon Apr 06 22:19:53 PDT 2009</td>\n",
              "      <td>NO_QUERY</td>\n",
              "      <td>mattycus</td>\n",
              "      <td>@Kenichan I dived many times for the ball. Man...</td>\n",
              "    </tr>\n",
              "    <tr>\n",
              "      <th>3</th>\n",
              "      <td>0</td>\n",
              "      <td>1467811184</td>\n",
              "      <td>Mon Apr 06 22:19:57 PDT 2009</td>\n",
              "      <td>NO_QUERY</td>\n",
              "      <td>ElleCTF</td>\n",
              "      <td>my whole body feels itchy and like its on fire</td>\n",
              "    </tr>\n",
              "    <tr>\n",
              "      <th>4</th>\n",
              "      <td>0</td>\n",
              "      <td>1467811193</td>\n",
              "      <td>Mon Apr 06 22:19:57 PDT 2009</td>\n",
              "      <td>NO_QUERY</td>\n",
              "      <td>Karoli</td>\n",
              "      <td>@nationwideclass no, it's not behaving at all....</td>\n",
              "    </tr>\n",
              "  </tbody>\n",
              "</table>\n",
              "</div>\n",
              "      <button class=\"colab-df-convert\" onclick=\"convertToInteractive('df-90451138-932d-446a-b281-c10b8733728b')\"\n",
              "              title=\"Convert this dataframe to an interactive table.\"\n",
              "              style=\"display:none;\">\n",
              "        \n",
              "  <svg xmlns=\"http://www.w3.org/2000/svg\" height=\"24px\"viewBox=\"0 0 24 24\"\n",
              "       width=\"24px\">\n",
              "    <path d=\"M0 0h24v24H0V0z\" fill=\"none\"/>\n",
              "    <path d=\"M18.56 5.44l.94 2.06.94-2.06 2.06-.94-2.06-.94-.94-2.06-.94 2.06-2.06.94zm-11 1L8.5 8.5l.94-2.06 2.06-.94-2.06-.94L8.5 2.5l-.94 2.06-2.06.94zm10 10l.94 2.06.94-2.06 2.06-.94-2.06-.94-.94-2.06-.94 2.06-2.06.94z\"/><path d=\"M17.41 7.96l-1.37-1.37c-.4-.4-.92-.59-1.43-.59-.52 0-1.04.2-1.43.59L10.3 9.45l-7.72 7.72c-.78.78-.78 2.05 0 2.83L4 21.41c.39.39.9.59 1.41.59.51 0 1.02-.2 1.41-.59l7.78-7.78 2.81-2.81c.8-.78.8-2.07 0-2.86zM5.41 20L4 18.59l7.72-7.72 1.47 1.35L5.41 20z\"/>\n",
              "  </svg>\n",
              "      </button>\n",
              "      \n",
              "  <style>\n",
              "    .colab-df-container {\n",
              "      display:flex;\n",
              "      flex-wrap:wrap;\n",
              "      gap: 12px;\n",
              "    }\n",
              "\n",
              "    .colab-df-convert {\n",
              "      background-color: #E8F0FE;\n",
              "      border: none;\n",
              "      border-radius: 50%;\n",
              "      cursor: pointer;\n",
              "      display: none;\n",
              "      fill: #1967D2;\n",
              "      height: 32px;\n",
              "      padding: 0 0 0 0;\n",
              "      width: 32px;\n",
              "    }\n",
              "\n",
              "    .colab-df-convert:hover {\n",
              "      background-color: #E2EBFA;\n",
              "      box-shadow: 0px 1px 2px rgba(60, 64, 67, 0.3), 0px 1px 3px 1px rgba(60, 64, 67, 0.15);\n",
              "      fill: #174EA6;\n",
              "    }\n",
              "\n",
              "    [theme=dark] .colab-df-convert {\n",
              "      background-color: #3B4455;\n",
              "      fill: #D2E3FC;\n",
              "    }\n",
              "\n",
              "    [theme=dark] .colab-df-convert:hover {\n",
              "      background-color: #434B5C;\n",
              "      box-shadow: 0px 1px 3px 1px rgba(0, 0, 0, 0.15);\n",
              "      filter: drop-shadow(0px 1px 2px rgba(0, 0, 0, 0.3));\n",
              "      fill: #FFFFFF;\n",
              "    }\n",
              "  </style>\n",
              "\n",
              "      <script>\n",
              "        const buttonEl =\n",
              "          document.querySelector('#df-90451138-932d-446a-b281-c10b8733728b button.colab-df-convert');\n",
              "        buttonEl.style.display =\n",
              "          google.colab.kernel.accessAllowed ? 'block' : 'none';\n",
              "\n",
              "        async function convertToInteractive(key) {\n",
              "          const element = document.querySelector('#df-90451138-932d-446a-b281-c10b8733728b');\n",
              "          const dataTable =\n",
              "            await google.colab.kernel.invokeFunction('convertToInteractive',\n",
              "                                                     [key], {});\n",
              "          if (!dataTable) return;\n",
              "\n",
              "          const docLinkHtml = 'Like what you see? Visit the ' +\n",
              "            '<a target=\"_blank\" href=https://colab.research.google.com/notebooks/data_table.ipynb>data table notebook</a>'\n",
              "            + ' to learn more about interactive tables.';\n",
              "          element.innerHTML = '';\n",
              "          dataTable['output_type'] = 'display_data';\n",
              "          await google.colab.output.renderOutput(dataTable, element);\n",
              "          const docLink = document.createElement('div');\n",
              "          docLink.innerHTML = docLinkHtml;\n",
              "          element.appendChild(docLink);\n",
              "        }\n",
              "      </script>\n",
              "    </div>\n",
              "  </div>\n",
              "  "
            ]
          },
          "metadata": {},
          "execution_count": 7
        }
      ],
      "source": [
        "df.head()"
      ]
    },
    {
      "cell_type": "markdown",
      "source": [
        "Drop some irrelevant columns. For this project I only consider the tweet text to make the classifications."
      ],
      "metadata": {
        "id": "Yev7EuBRCKk2"
      }
    },
    {
      "cell_type": "code",
      "source": [
        "data = df.drop(columns=['time', 'date', 'query', 'username'])"
      ],
      "metadata": {
        "id": "4mN8JN4GCHGC"
      },
      "execution_count": 8,
      "outputs": []
    },
    {
      "cell_type": "markdown",
      "source": [
        "Update the label value of 4 (positive) to 1, so the two labels are 0 (negative) and 1 (positive)."
      ],
      "metadata": {
        "id": "Netr8AflCSXX"
      }
    },
    {
      "cell_type": "code",
      "source": [
        "data.loc[data['label']==4, 'label'] = 1"
      ],
      "metadata": {
        "id": "_DqNMn2yCRTA"
      },
      "execution_count": 9,
      "outputs": []
    },
    {
      "cell_type": "code",
      "source": [
        "data.label.value_counts()"
      ],
      "metadata": {
        "colab": {
          "base_uri": "https://localhost:8080/"
        },
        "id": "NbuV1oGHCeip",
        "outputId": "e2e348e8-ec53-417f-ec39-696847a05e03"
      },
      "execution_count": 10,
      "outputs": [
        {
          "output_type": "execute_result",
          "data": {
            "text/plain": [
              "0    800000\n",
              "1    800000\n",
              "Name: label, dtype: int64"
            ]
          },
          "metadata": {},
          "execution_count": 10
        }
      ]
    },
    {
      "cell_type": "code",
      "source": [
        "negative_count = len(data[data.label==0])\n",
        "positive_count = len(data[data.label==1])\n",
        "\n",
        "plt.figure(figsize=(8, 6))\n",
        "sns.barplot(x=['negative labels', 'positive labels'], y=[negative_count, positive_count])\n",
        "plt.title('Label counts')\n",
        "plt.show()"
      ],
      "metadata": {
        "colab": {
          "base_uri": "https://localhost:8080/",
          "height": 545
        },
        "id": "uO6gx784ChNs",
        "outputId": "d630df05-7b0f-4ebd-a06c-4a7ba1bce03a"
      },
      "execution_count": 11,
      "outputs": [
        {
          "output_type": "display_data",
          "data": {
            "text/plain": [
              "<Figure size 800x600 with 1 Axes>"
            ],
            "image/png": "[encoded data removed]"
          },
          "metadata": {}
        }
      ]
    },
    {
      "cell_type": "code",
      "execution_count": 12,
      "metadata": {
        "colab": {
          "base_uri": "https://localhost:8080/"
        },
        "id": "WLTlVAoB-gHA",
        "outputId": "7214fb48-fda4-47b9-c108-85351f94f0e0"
      },
      "outputs": [
        {
          "output_type": "stream",
          "name": "stdout",
          "text": [
            "10000: I think there's a problem with the ISP in this area or something...my connection go too slow to do anything online yesterday &amp; today \n",
            "10001: @ nawong How do I go about getting access to idzr.org I'm dying to try it out \n",
            "10002: @ nawong How do I go about getting access to idzr.org I'm dying to try it out \n",
            "10003: Talking to designers...I can't squeeze any design juice from my brain...for my personal website. \n",
            "10004: Rainy day \n",
            "10005: completely failed to upload my cute picture. Format too big \n",
            "10006: Hrm, scanner traffic diminishes greatly when your public services are on strike. \n",
            "10007: doesnt have 1 single pair of spring pants that fit \n",
            "10008: tired of swollen hands...they don't feel good. \n",
            "10009: goodmorning!&lt;3 wishing the sun would come through the clouds  i can tell this is going to be one of those days..... \n"
          ]
        }
      ],
      "source": [
        "negative_examples = data[data.label==0]\n",
        "\n",
        "for i in range(10000, 10010):\n",
        "  print(str(i) + \": \" + negative_examples.iloc[i].text)"
      ]
    },
    {
      "cell_type": "code",
      "execution_count": 13,
      "metadata": {
        "colab": {
          "base_uri": "https://localhost:8080/"
        },
        "id": "wHwW5ert-7z3",
        "outputId": "dd199816-0a42-4042-931f-b2ad8b472f5f"
      },
      "outputs": [
        {
          "output_type": "stream",
          "name": "stdout",
          "text": [
            "10000: Have a gig in Northampton at the racehorse tmw night \n",
            "10001: Slept in for an extra 30  in Alviso http://loopt.us/uLUVfA\n",
            "10002: @chickbot Kinda like status updates \n",
            "10003: 99 thieving last night \n",
            "10004: off to SAT prep \n",
            "10005: OMG and i thought my monster yesterday was amazing! Boy was i wrong! THERE'S CARMALLOWS IN THE CABINET!! \n",
            "10006: Good morning twitter \n",
            "10007: @reannatugiri Thanks!  That just made my day. \n",
            "10008: Just discovered that @BorrowLenses is on Twitter! NAPP members get a discount! \n",
            "10009: Heading to the gym- have to work off the ice cream from yesterday. \n"
          ]
        }
      ],
      "source": [
        "positive_examples = data[data.label==1]\n",
        "\n",
        "for i in range(10000, 10010):\n",
        "  print(str(i) + \": \" + positive_examples.iloc[i].text)"
      ]
    },
    {
      "cell_type": "code",
      "source": [
        "from wordcloud import STOPWORDS\n",
        "\n",
        "print(STOPWORDS)"
      ],
      "metadata": {
        "colab": {
          "base_uri": "https://localhost:8080/"
        },
        "id": "sZ3KDVUZCl6I",
        "outputId": "d8bae00c-02a7-4e45-cccb-60aa9e9b6fed"
      },
      "execution_count": 14,
      "outputs": [
        {
          "output_type": "stream",
          "name": "stdout",
          "text": [
            "{\"you'd\", \"we'll\", \"we'd\", \"isn't\", 'down', 'could', 'her', \"that's\", 'under', \"who's\", 'my', 'also', \"mustn't\", \"i'll\", 'i', \"we're\", \"wouldn't\", 'more', \"he'd\", 'was', \"let's\", \"wasn't\", \"hadn't\", 'it', 'she', 'some', \"i'm\", 'an', \"i'd\", 'having', 'itself', 'http', 'there', 'with', \"hasn't\", 'or', 'were', 'few', 'hence', \"didn't\", 'else', 'his', 'the', \"how's\", 'from', 'otherwise', 'yourself', 'their', 'yourselves', 'after', 'above', 'each', \"you've\", 'its', 'since', 'this', 'yours', 'such', 'a', 'am', 'get', 'through', 'who', 'most', 'than', 'myself', 'be', 'against', \"there's\", 'to', 'because', 'would', \"she'll\", 'not', 'about', \"you're\", \"weren't\", \"he'll\", 'com', 'only', \"couldn't\", 'doing', 'www', 'do', 'does', 'by', \"they're\", 'into', 'in', \"won't\", 'while', 'during', 'them', \"what's\", 'out', 'r', 'whom', \"when's\", \"they've\", 'can', 'are', 'been', 'below', \"can't\", 'as', 'own', 'did', \"shouldn't\", 'very', 'our', \"she'd\", \"they'd\", \"doesn't\", 'so', 'theirs', 'him', 'nor', 'he', 'here', 'had', 'however', 'of', 'if', \"where's\", 'both', 'up', \"here's\", 'when', 'herself', \"you'll\", 'ever', 'cannot', 'how', 'on', 'no', 'off', 'then', 'why', \"they'll\", 'ours', \"why's\", 'have', 'they', 'is', 'your', 'those', 'has', \"haven't\", 'other', 'over', 'and', 'should', 'once', 'same', 'at', 'for', 'any', 'you', \"don't\", \"she's\", 'all', 'again', 'ourselves', \"aren't\", 'k', \"it's\", 'what', 'which', 'himself', 'shall', 'therefore', \"i've\", 'being', \"shan't\", \"we've\", 'ought', 'these', 'hers', 'but', 'between', 'we', 'before', 'me', 'where', \"he's\", 'like', 'that', 'further', 'themselves', 'too', 'until', 'just'}\n"
          ]
        }
      ]
    },
    {
      "cell_type": "code",
      "source": [
        "def split_text(text):\n",
        "  tokens = [token for token in text.lower().split(' ') if token != '' if token not in STOPWORDS]\n",
        "  return tokens"
      ],
      "metadata": {
        "id": "tGlvlm1BCnZE"
      },
      "execution_count": 15,
      "outputs": []
    },
    {
      "cell_type": "code",
      "source": [
        "from collections import defaultdict"
      ],
      "metadata": {
        "id": "FCPZXOa4Cq1A"
      },
      "execution_count": 16,
      "outputs": []
    },
    {
      "cell_type": "markdown",
      "source": [
        "Count how many times words appear in the tweets."
      ],
      "metadata": {
        "id": "5RN_LICWCvyP"
      }
    },
    {
      "cell_type": "code",
      "source": [
        "negative_words = defaultdict()\n",
        "positive_words = defaultdict()\n",
        "\n",
        "NEGATIVE = data['label'] == 0\n",
        "\n",
        "for text in data[NEGATIVE]['text']:\n",
        "  for word in split_text(text):\n",
        "    if word not in negative_words:\n",
        "      negative_words[word] = 0\n",
        "    negative_words[word] += 1\n",
        "\n",
        "for text in data[~NEGATIVE]['text']:\n",
        "  for word in split_text(text):\n",
        "    if word not in positive_words:\n",
        "      positive_words[word] = 0\n",
        "    positive_words[word] += 1"
      ],
      "metadata": {
        "id": "oEYv9rAZCsr7"
      },
      "execution_count": 17,
      "outputs": []
    },
    {
      "cell_type": "code",
      "source": [
        "negative_words_df = pd.DataFrame(sorted(negative_words.items(), key=lambda x: x[1])[::-1])\n",
        "positive_words_df = pd.DataFrame(sorted(positive_words.items(), key=lambda x: x[1])[::-1])"
      ],
      "metadata": {
        "id": "X9f9w0l_CvUx"
      },
      "execution_count": 18,
      "outputs": []
    },
    {
      "cell_type": "code",
      "source": [
        "negative_words_df.columns = ['word', 'count']\n",
        "positive_words_df.columns = ['word', 'count']"
      ],
      "metadata": {
        "id": "06bd2a58C06k"
      },
      "execution_count": 19,
      "outputs": []
    },
    {
      "cell_type": "code",
      "source": [
        "negative_words_df.tail()"
      ],
      "metadata": {
        "colab": {
          "base_uri": "https://localhost:8080/",
          "height": 206
        },
        "id": "F5xsVR0SC1pP",
        "outputId": "5cf506c0-25b0-498b-9f12-15d227b08e07"
      },
      "execution_count": 20,
      "outputs": [
        {
          "output_type": "execute_result",
          "data": {
            "text/plain": [
              "                            word  count\n",
              "650349                     ,only      1\n",
              "650350                 @loltrish      1\n",
              "650351                 @kwesidei      1\n",
              "650352          @nationwideclass      1\n",
              "650353  http://twitpic.com/2y1zl      1"
            ],
            "text/html": [
              "\n",
              "  <div id=\"df-56822cd5-1f1f-43e0-9d7b-f96d5b8230ea\">\n",
              "    <div class=\"colab-df-container\">\n",
              "      <div>\n",
              "<style scoped>\n",
              "    .dataframe tbody tr th:only-of-type {\n",
              "        vertical-align: middle;\n",
              "    }\n",
              "\n",
              "    .dataframe tbody tr th {\n",
              "        vertical-align: top;\n",
              "    }\n",
              "\n",
              "    .dataframe thead th {\n",
              "        text-align: right;\n",
              "    }\n",
              "</style>\n",
              "<table border=\"1\" class=\"dataframe\">\n",
              "  <thead>\n",
              "    <tr style=\"text-align: right;\">\n",
              "      <th></th>\n",
              "      <th>word</th>\n",
              "      <th>count</th>\n",
              "    </tr>\n",
              "  </thead>\n",
              "  <tbody>\n",
              "    <tr>\n",
              "      <th>650349</th>\n",
              "      <td>,only</td>\n",
              "      <td>1</td>\n",
              "    </tr>\n",
              "    <tr>\n",
              "      <th>650350</th>\n",
              "      <td>@loltrish</td>\n",
              "      <td>1</td>\n",
              "    </tr>\n",
              "    <tr>\n",
              "      <th>650351</th>\n",
              "      <td>@kwesidei</td>\n",
              "      <td>1</td>\n",
              "    </tr>\n",
              "    <tr>\n",
              "      <th>650352</th>\n",
              "      <td>@nationwideclass</td>\n",
              "      <td>1</td>\n",
              "    </tr>\n",
              "    <tr>\n",
              "      <th>650353</th>\n",
              "      <td>http://twitpic.com/2y1zl</td>\n",
              "      <td>1</td>\n",
              "    </tr>\n",
              "  </tbody>\n",
              "</table>\n",
              "</div>\n",
              "      <button class=\"colab-df-convert\" onclick=\"convertToInteractive('df-56822cd5-1f1f-43e0-9d7b-f96d5b8230ea')\"\n",
              "              title=\"Convert this dataframe to an interactive table.\"\n",
              "              style=\"display:none;\">\n",
              "        \n",
              "  <svg xmlns=\"http://www.w3.org/2000/svg\" height=\"24px\"viewBox=\"0 0 24 24\"\n",
              "       width=\"24px\">\n",
              "    <path d=\"M0 0h24v24H0V0z\" fill=\"none\"/>\n",
              "    <path d=\"M18.56 5.44l.94 2.06.94-2.06 2.06-.94-2.06-.94-.94-2.06-.94 2.06-2.06.94zm-11 1L8.5 8.5l.94-2.06 2.06-.94-2.06-.94L8.5 2.5l-.94 2.06-2.06.94zm10 10l.94 2.06.94-2.06 2.06-.94-2.06-.94-.94-2.06-.94 2.06-2.06.94z\"/><path d=\"M17.41 7.96l-1.37-1.37c-.4-.4-.92-.59-1.43-.59-.52 0-1.04.2-1.43.59L10.3 9.45l-7.72 7.72c-.78.78-.78 2.05 0 2.83L4 21.41c.39.39.9.59 1.41.59.51 0 1.02-.2 1.41-.59l7.78-7.78 2.81-2.81c.8-.78.8-2.07 0-2.86zM5.41 20L4 18.59l7.72-7.72 1.47 1.35L5.41 20z\"/>\n",
              "  </svg>\n",
              "      </button>\n",
              "      \n",
              "  <style>\n",
              "    .colab-df-container {\n",
              "      display:flex;\n",
              "      flex-wrap:wrap;\n",
              "      gap: 12px;\n",
              "    }\n",
              "\n",
              "    .colab-df-convert {\n",
              "      background-color: #E8F0FE;\n",
              "      border: none;\n",
              "      border-radius: 50%;\n",
              "      cursor: pointer;\n",
              "      display: none;\n",
              "      fill: #1967D2;\n",
              "      height: 32px;\n",
              "      padding: 0 0 0 0;\n",
              "      width: 32px;\n",
              "    }\n",
              "\n",
              "    .colab-df-convert:hover {\n",
              "      background-color: #E2EBFA;\n",
              "      box-shadow: 0px 1px 2px rgba(60, 64, 67, 0.3), 0px 1px 3px 1px rgba(60, 64, 67, 0.15);\n",
              "      fill: #174EA6;\n",
              "    }\n",
              "\n",
              "    [theme=dark] .colab-df-convert {\n",
              "      background-color: #3B4455;\n",
              "      fill: #D2E3FC;\n",
              "    }\n",
              "\n",
              "    [theme=dark] .colab-df-convert:hover {\n",
              "      background-color: #434B5C;\n",
              "      box-shadow: 0px 1px 3px 1px rgba(0, 0, 0, 0.15);\n",
              "      filter: drop-shadow(0px 1px 2px rgba(0, 0, 0, 0.3));\n",
              "      fill: #FFFFFF;\n",
              "    }\n",
              "  </style>\n",
              "\n",
              "      <script>\n",
              "        const buttonEl =\n",
              "          document.querySelector('#df-56822cd5-1f1f-43e0-9d7b-f96d5b8230ea button.colab-df-convert');\n",
              "        buttonEl.style.display =\n",
              "          google.colab.kernel.accessAllowed ? 'block' : 'none';\n",
              "\n",
              "        async function convertToInteractive(key) {\n",
              "          const element = document.querySelector('#df-56822cd5-1f1f-43e0-9d7b-f96d5b8230ea');\n",
              "          const dataTable =\n",
              "            await google.colab.kernel.invokeFunction('convertToInteractive',\n",
              "                                                     [key], {});\n",
              "          if (!dataTable) return;\n",
              "\n",
              "          const docLinkHtml = 'Like what you see? Visit the ' +\n",
              "            '<a target=\"_blank\" href=https://colab.research.google.com/notebooks/data_table.ipynb>data table notebook</a>'\n",
              "            + ' to learn more about interactive tables.';\n",
              "          element.innerHTML = '';\n",
              "          dataTable['output_type'] = 'display_data';\n",
              "          await google.colab.output.renderOutput(dataTable, element);\n",
              "          const docLink = document.createElement('div');\n",
              "          docLink.innerHTML = docLinkHtml;\n",
              "          element.appendChild(docLink);\n",
              "        }\n",
              "      </script>\n",
              "    </div>\n",
              "  </div>\n",
              "  "
            ]
          },
          "metadata": {},
          "execution_count": 20
        }
      ]
    },
    {
      "cell_type": "code",
      "source": [
        "positive_words_df.tail()"
      ],
      "metadata": {
        "colab": {
          "base_uri": "https://localhost:8080/",
          "height": 206
        },
        "id": "WZUa-AFKC5Fx",
        "outputId": "fca8a661-f756-4787-8c29-4503558385e0"
      },
      "execution_count": 21,
      "outputs": [
        {
          "output_type": "execute_result",
          "data": {
            "text/plain": [
              "                  word  count\n",
              "765902         @e4voip      1\n",
              "765903         acm's?!      1\n",
              "765904           sulk!      1\n",
              "765905  @productoffear      1\n",
              "765906         sunisa!      1"
            ],
            "text/html": [
              "\n",
              "  <div id=\"df-0a91507d-e465-4681-bbe7-eae8ffe1d82f\">\n",
              "    <div class=\"colab-df-container\">\n",
              "      <div>\n",
              "<style scoped>\n",
              "    .dataframe tbody tr th:only-of-type {\n",
              "        vertical-align: middle;\n",
              "    }\n",
              "\n",
              "    .dataframe tbody tr th {\n",
              "        vertical-align: top;\n",
              "    }\n",
              "\n",
              "    .dataframe thead th {\n",
              "        text-align: right;\n",
              "    }\n",
              "</style>\n",
              "<table border=\"1\" class=\"dataframe\">\n",
              "  <thead>\n",
              "    <tr style=\"text-align: right;\">\n",
              "      <th></th>\n",
              "      <th>word</th>\n",
              "      <th>count</th>\n",
              "    </tr>\n",
              "  </thead>\n",
              "  <tbody>\n",
              "    <tr>\n",
              "      <th>765902</th>\n",
              "      <td>@e4voip</td>\n",
              "      <td>1</td>\n",
              "    </tr>\n",
              "    <tr>\n",
              "      <th>765903</th>\n",
              "      <td>acm's?!</td>\n",
              "      <td>1</td>\n",
              "    </tr>\n",
              "    <tr>\n",
              "      <th>765904</th>\n",
              "      <td>sulk!</td>\n",
              "      <td>1</td>\n",
              "    </tr>\n",
              "    <tr>\n",
              "      <th>765905</th>\n",
              "      <td>@productoffear</td>\n",
              "      <td>1</td>\n",
              "    </tr>\n",
              "    <tr>\n",
              "      <th>765906</th>\n",
              "      <td>sunisa!</td>\n",
              "      <td>1</td>\n",
              "    </tr>\n",
              "  </tbody>\n",
              "</table>\n",
              "</div>\n",
              "      <button class=\"colab-df-convert\" onclick=\"convertToInteractive('df-0a91507d-e465-4681-bbe7-eae8ffe1d82f')\"\n",
              "              title=\"Convert this dataframe to an interactive table.\"\n",
              "              style=\"display:none;\">\n",
              "        \n",
              "  <svg xmlns=\"http://www.w3.org/2000/svg\" height=\"24px\"viewBox=\"0 0 24 24\"\n",
              "       width=\"24px\">\n",
              "    <path d=\"M0 0h24v24H0V0z\" fill=\"none\"/>\n",
              "    <path d=\"M18.56 5.44l.94 2.06.94-2.06 2.06-.94-2.06-.94-.94-2.06-.94 2.06-2.06.94zm-11 1L8.5 8.5l.94-2.06 2.06-.94-2.06-.94L8.5 2.5l-.94 2.06-2.06.94zm10 10l.94 2.06.94-2.06 2.06-.94-2.06-.94-.94-2.06-.94 2.06-2.06.94z\"/><path d=\"M17.41 7.96l-1.37-1.37c-.4-.4-.92-.59-1.43-.59-.52 0-1.04.2-1.43.59L10.3 9.45l-7.72 7.72c-.78.78-.78 2.05 0 2.83L4 21.41c.39.39.9.59 1.41.59.51 0 1.02-.2 1.41-.59l7.78-7.78 2.81-2.81c.8-.78.8-2.07 0-2.86zM5.41 20L4 18.59l7.72-7.72 1.47 1.35L5.41 20z\"/>\n",
              "  </svg>\n",
              "      </button>\n",
              "      \n",
              "  <style>\n",
              "    .colab-df-container {\n",
              "      display:flex;\n",
              "      flex-wrap:wrap;\n",
              "      gap: 12px;\n",
              "    }\n",
              "\n",
              "    .colab-df-convert {\n",
              "      background-color: #E8F0FE;\n",
              "      border: none;\n",
              "      border-radius: 50%;\n",
              "      cursor: pointer;\n",
              "      display: none;\n",
              "      fill: #1967D2;\n",
              "      height: 32px;\n",
              "      padding: 0 0 0 0;\n",
              "      width: 32px;\n",
              "    }\n",
              "\n",
              "    .colab-df-convert:hover {\n",
              "      background-color: #E2EBFA;\n",
              "      box-shadow: 0px 1px 2px rgba(60, 64, 67, 0.3), 0px 1px 3px 1px rgba(60, 64, 67, 0.15);\n",
              "      fill: #174EA6;\n",
              "    }\n",
              "\n",
              "    [theme=dark] .colab-df-convert {\n",
              "      background-color: #3B4455;\n",
              "      fill: #D2E3FC;\n",
              "    }\n",
              "\n",
              "    [theme=dark] .colab-df-convert:hover {\n",
              "      background-color: #434B5C;\n",
              "      box-shadow: 0px 1px 3px 1px rgba(0, 0, 0, 0.15);\n",
              "      filter: drop-shadow(0px 1px 2px rgba(0, 0, 0, 0.3));\n",
              "      fill: #FFFFFF;\n",
              "    }\n",
              "  </style>\n",
              "\n",
              "      <script>\n",
              "        const buttonEl =\n",
              "          document.querySelector('#df-0a91507d-e465-4681-bbe7-eae8ffe1d82f button.colab-df-convert');\n",
              "        buttonEl.style.display =\n",
              "          google.colab.kernel.accessAllowed ? 'block' : 'none';\n",
              "\n",
              "        async function convertToInteractive(key) {\n",
              "          const element = document.querySelector('#df-0a91507d-e465-4681-bbe7-eae8ffe1d82f');\n",
              "          const dataTable =\n",
              "            await google.colab.kernel.invokeFunction('convertToInteractive',\n",
              "                                                     [key], {});\n",
              "          if (!dataTable) return;\n",
              "\n",
              "          const docLinkHtml = 'Like what you see? Visit the ' +\n",
              "            '<a target=\"_blank\" href=https://colab.research.google.com/notebooks/data_table.ipynb>data table notebook</a>'\n",
              "            + ' to learn more about interactive tables.';\n",
              "          element.innerHTML = '';\n",
              "          dataTable['output_type'] = 'display_data';\n",
              "          await google.colab.output.renderOutput(dataTable, element);\n",
              "          const docLink = document.createElement('div');\n",
              "          docLink.innerHTML = docLinkHtml;\n",
              "          element.appendChild(docLink);\n",
              "        }\n",
              "      </script>\n",
              "    </div>\n",
              "  </div>\n",
              "  "
            ]
          },
          "metadata": {},
          "execution_count": 21
        }
      ]
    },
    {
      "cell_type": "markdown",
      "source": [
        "Top word counts by label"
      ],
      "metadata": {
        "id": "WFRtm6XJC7v-"
      }
    },
    {
      "cell_type": "code",
      "source": [
        "fig, axs = plt.subplots(1, 2, figsize=(15, 4))\n",
        "\n",
        "sns.barplot(y=negative_words_df['word'].values[:20], x=negative_words_df['count'].values[:20], color='red', ax=axs[0])\n",
        "axs[0].set_title('Negative tweets word counts')\n",
        "axs[0].set_xlabel('words')\n",
        "axs[0].set_ylabel('counts')\n",
        "\n",
        "sns.barplot(y=positive_words_df['word'].values[:20], x=positive_words_df['count'].values[:20], color='green', ax=axs[1])\n",
        "axs[1].set_title('Positive tweets word counts')\n",
        "axs[1].set_xlabel('words')\n",
        "axs[1].set_ylabel('counts')\n",
        "\n",
        "plt.show()"
      ],
      "metadata": {
        "colab": {
          "base_uri": "https://localhost:8080/",
          "height": 301
        },
        "id": "CSavsKqMC6W_",
        "outputId": "9b84e704-ecad-48d0-8ced-75e6251e165f"
      },
      "execution_count": 22,
      "outputs": [
        {
          "output_type": "display_data",
          "data": {
            "text/plain": [
              "<Figure size 1500x400 with 2 Axes>"
            ],
            "image/png": "[encoded data removed]"
          },
          "metadata": {}
        }
      ]
    },
    {
      "cell_type": "code",
      "source": [
        "data_copy = data.copy()"
      ],
      "metadata": {
        "id": "4J0g6SsJC9c6"
      },
      "execution_count": 23,
      "outputs": []
    },
    {
      "cell_type": "code",
      "source": [
        "data_copy['char_count'] = data_copy['text'].apply(lambda x: len(str(x)))\n",
        "data_copy['word_count'] = data_copy['text'].apply(lambda x: len(str(x).split()))\n",
        "data_copy['mean_word_length'] = data_copy['text'].apply(lambda x: np.mean([len(w) for w in str(x).split()]))"
      ],
      "metadata": {
        "id": "8R2Y4oxXDAym"
      },
      "execution_count": 24,
      "outputs": []
    },
    {
      "cell_type": "code",
      "source": [
        "data_copy.head()"
      ],
      "metadata": {
        "colab": {
          "base_uri": "https://localhost:8080/",
          "height": 206
        },
        "id": "zRVEh_9eDBiQ",
        "outputId": "160fa16d-186b-42d6-acae-e50ad1e1848b"
      },
      "execution_count": 25,
      "outputs": [
        {
          "output_type": "execute_result",
          "data": {
            "text/plain": [
              "   label                                               text  char_count  \\\n",
              "0      0  @switchfoot http://twitpic.com/2y1zl - Awww, t...         115   \n",
              "1      0  is upset that he can't update his Facebook by ...         111   \n",
              "2      0  @Kenichan I dived many times for the ball. Man...          89   \n",
              "3      0    my whole body feels itchy and like its on fire           47   \n",
              "4      0  @nationwideclass no, it's not behaving at all....         111   \n",
              "\n",
              "   word_count  mean_word_length  \n",
              "0          19          5.052632  \n",
              "1          21          4.285714  \n",
              "2          18          3.944444  \n",
              "3          10          3.700000  \n",
              "4          21          4.285714  "
            ],
            "text/html": [
              "\n",
              "  <div id=\"df-0dda5417-dff8-4c7d-9f4a-d39045924a02\">\n",
              "    <div class=\"colab-df-container\">\n",
              "      <div>\n",
              "<style scoped>\n",
              "    .dataframe tbody tr th:only-of-type {\n",
              "        vertical-align: middle;\n",
              "    }\n",
              "\n",
              "    .dataframe tbody tr th {\n",
              "        vertical-align: top;\n",
              "    }\n",
              "\n",
              "    .dataframe thead th {\n",
              "        text-align: right;\n",
              "    }\n",
              "</style>\n",
              "<table border=\"1\" class=\"dataframe\">\n",
              "  <thead>\n",
              "    <tr style=\"text-align: right;\">\n",
              "      <th></th>\n",
              "      <th>label</th>\n",
              "      <th>text</th>\n",
              "      <th>char_count</th>\n",
              "      <th>word_count</th>\n",
              "      <th>mean_word_length</th>\n",
              "    </tr>\n",
              "  </thead>\n",
              "  <tbody>\n",
              "    <tr>\n",
              "      <th>0</th>\n",
              "      <td>0</td>\n",
              "      <td>@switchfoot http://twitpic.com/2y1zl - Awww, t...</td>\n",
              "      <td>115</td>\n",
              "      <td>19</td>\n",
              "      <td>5.052632</td>\n",
              "    </tr>\n",
              "    <tr>\n",
              "      <th>1</th>\n",
              "      <td>0</td>\n",
              "      <td>is upset that he can't update his Facebook by ...</td>\n",
              "      <td>111</td>\n",
              "      <td>21</td>\n",
              "      <td>4.285714</td>\n",
              "    </tr>\n",
              "    <tr>\n",
              "      <th>2</th>\n",
              "      <td>0</td>\n",
              "      <td>@Kenichan I dived many times for the ball. Man...</td>\n",
              "      <td>89</td>\n",
              "      <td>18</td>\n",
              "      <td>3.944444</td>\n",
              "    </tr>\n",
              "    <tr>\n",
              "      <th>3</th>\n",
              "      <td>0</td>\n",
              "      <td>my whole body feels itchy and like its on fire</td>\n",
              "      <td>47</td>\n",
              "      <td>10</td>\n",
              "      <td>3.700000</td>\n",
              "    </tr>\n",
              "    <tr>\n",
              "      <th>4</th>\n",
              "      <td>0</td>\n",
              "      <td>@nationwideclass no, it's not behaving at all....</td>\n",
              "      <td>111</td>\n",
              "      <td>21</td>\n",
              "      <td>4.285714</td>\n",
              "    </tr>\n",
              "  </tbody>\n",
              "</table>\n",
              "</div>\n",
              "      <button class=\"colab-df-convert\" onclick=\"convertToInteractive('df-0dda5417-dff8-4c7d-9f4a-d39045924a02')\"\n",
              "              title=\"Convert this dataframe to an interactive table.\"\n",
              "              style=\"display:none;\">\n",
              "        \n",
              "  <svg xmlns=\"http://www.w3.org/2000/svg\" height=\"24px\"viewBox=\"0 0 24 24\"\n",
              "       width=\"24px\">\n",
              "    <path d=\"M0 0h24v24H0V0z\" fill=\"none\"/>\n",
              "    <path d=\"M18.56 5.44l.94 2.06.94-2.06 2.06-.94-2.06-.94-.94-2.06-.94 2.06-2.06.94zm-11 1L8.5 8.5l.94-2.06 2.06-.94-2.06-.94L8.5 2.5l-.94 2.06-2.06.94zm10 10l.94 2.06.94-2.06 2.06-.94-2.06-.94-.94-2.06-.94 2.06-2.06.94z\"/><path d=\"M17.41 7.96l-1.37-1.37c-.4-.4-.92-.59-1.43-.59-.52 0-1.04.2-1.43.59L10.3 9.45l-7.72 7.72c-.78.78-.78 2.05 0 2.83L4 21.41c.39.39.9.59 1.41.59.51 0 1.02-.2 1.41-.59l7.78-7.78 2.81-2.81c.8-.78.8-2.07 0-2.86zM5.41 20L4 18.59l7.72-7.72 1.47 1.35L5.41 20z\"/>\n",
              "  </svg>\n",
              "      </button>\n",
              "      \n",
              "  <style>\n",
              "    .colab-df-container {\n",
              "      display:flex;\n",
              "      flex-wrap:wrap;\n",
              "      gap: 12px;\n",
              "    }\n",
              "\n",
              "    .colab-df-convert {\n",
              "      background-color: #E8F0FE;\n",
              "      border: none;\n",
              "      border-radius: 50%;\n",
              "      cursor: pointer;\n",
              "      display: none;\n",
              "      fill: #1967D2;\n",
              "      height: 32px;\n",
              "      padding: 0 0 0 0;\n",
              "      width: 32px;\n",
              "    }\n",
              "\n",
              "    .colab-df-convert:hover {\n",
              "      background-color: #E2EBFA;\n",
              "      box-shadow: 0px 1px 2px rgba(60, 64, 67, 0.3), 0px 1px 3px 1px rgba(60, 64, 67, 0.15);\n",
              "      fill: #174EA6;\n",
              "    }\n",
              "\n",
              "    [theme=dark] .colab-df-convert {\n",
              "      background-color: #3B4455;\n",
              "      fill: #D2E3FC;\n",
              "    }\n",
              "\n",
              "    [theme=dark] .colab-df-convert:hover {\n",
              "      background-color: #434B5C;\n",
              "      box-shadow: 0px 1px 3px 1px rgba(0, 0, 0, 0.15);\n",
              "      filter: drop-shadow(0px 1px 2px rgba(0, 0, 0, 0.3));\n",
              "      fill: #FFFFFF;\n",
              "    }\n",
              "  </style>\n",
              "\n",
              "      <script>\n",
              "        const buttonEl =\n",
              "          document.querySelector('#df-0dda5417-dff8-4c7d-9f4a-d39045924a02 button.colab-df-convert');\n",
              "        buttonEl.style.display =\n",
              "          google.colab.kernel.accessAllowed ? 'block' : 'none';\n",
              "\n",
              "        async function convertToInteractive(key) {\n",
              "          const element = document.querySelector('#df-0dda5417-dff8-4c7d-9f4a-d39045924a02');\n",
              "          const dataTable =\n",
              "            await google.colab.kernel.invokeFunction('convertToInteractive',\n",
              "                                                     [key], {});\n",
              "          if (!dataTable) return;\n",
              "\n",
              "          const docLinkHtml = 'Like what you see? Visit the ' +\n",
              "            '<a target=\"_blank\" href=https://colab.research.google.com/notebooks/data_table.ipynb>data table notebook</a>'\n",
              "            + ' to learn more about interactive tables.';\n",
              "          element.innerHTML = '';\n",
              "          dataTable['output_type'] = 'display_data';\n",
              "          await google.colab.output.renderOutput(dataTable, element);\n",
              "          const docLink = document.createElement('div');\n",
              "          docLink.innerHTML = docLinkHtml;\n",
              "          element.appendChild(docLink);\n",
              "        }\n",
              "      </script>\n",
              "    </div>\n",
              "  </div>\n",
              "  "
            ]
          },
          "metadata": {},
          "execution_count": 25
        }
      ]
    },
    {
      "cell_type": "markdown",
      "source": [
        "Character counts by tweets"
      ],
      "metadata": {
        "id": "t5tk1Fu_DDRu"
      }
    },
    {
      "cell_type": "code",
      "source": [
        "NEGATIVE = data_copy['label'] == 0\n",
        "\n",
        "sns.histplot(data=data_copy[NEGATIVE], bins=50, x='char_count', label='negative tweets', kde=True, color='red')\n",
        "sns.histplot(data=data_copy[~NEGATIVE], bins=50, x='char_count', label='positive tweets', kde=True, color='green')\n",
        "\n",
        "plt.xlabel('character count')\n",
        "plt.ylabel('number of tweets')\n",
        "plt.legend()\n",
        "plt.show()"
      ],
      "metadata": {
        "colab": {
          "base_uri": "https://localhost:8080/",
          "height": 452
        },
        "id": "AbsjDXi4DCjO",
        "outputId": "c3dcfbd4-26e3-41d4-a70d-bf5b00ca99f1"
      },
      "execution_count": 26,
      "outputs": [
        {
          "output_type": "display_data",
          "data": {
            "text/plain": [
              "<Figure size 640x480 with 1 Axes>"
            ],
            "image/png": "[encoded data removed]"
          },
          "metadata": {}
        }
      ]
    },
    {
      "cell_type": "markdown",
      "source": [
        "Word counts by tweets"
      ],
      "metadata": {
        "id": "rSy3c64YDGWm"
      }
    },
    {
      "cell_type": "code",
      "source": [
        "sns.histplot(data=data_copy[NEGATIVE], bins=50, x='word_count', label='negative tweets', color='red')\n",
        "sns.histplot(data=data_copy[~NEGATIVE], bins=50, x='word_count', label='positive tweets', color='green')\n",
        "\n",
        "plt.xlabel('word count')\n",
        "plt.ylabel('number of tweets')\n",
        "plt.legend()\n",
        "plt.show()"
      ],
      "metadata": {
        "colab": {
          "base_uri": "https://localhost:8080/",
          "height": 449
        },
        "id": "GXGwFqGvDFb-",
        "outputId": "14e2bc45-9af5-4e55-f17c-f7f3384a66ed"
      },
      "execution_count": 27,
      "outputs": [
        {
          "output_type": "display_data",
          "data": {
            "text/plain": [
              "<Figure size 640x480 with 1 Axes>"
            ],
            "image/png": "[encoded data removed]"
          },
          "metadata": {}
        }
      ]
    },
    {
      "cell_type": "markdown",
      "source": [
        "Mean word lengths by tweets"
      ],
      "metadata": {
        "id": "oqJAsETMDJ-L"
      }
    },
    {
      "cell_type": "code",
      "source": [
        "sns.histplot(data=data_copy[NEGATIVE], bins=50, x='mean_word_length', label='negative tweets', kde=True, color='red')\n",
        "sns.histplot(data=data_copy[~NEGATIVE], bins=50, x='mean_word_length', label='positive tweets', kde=True, color='green')\n",
        "\n",
        "plt.xlabel('mean word length')\n",
        "plt.ylabel('number of tweets')\n",
        "plt.legend()\n",
        "plt.show()"
      ],
      "metadata": {
        "colab": {
          "base_uri": "https://localhost:8080/",
          "height": 465
        },
        "id": "XvI4zcJDDMI4",
        "outputId": "5f371bbd-ba2d-4bb9-c5ec-75feab4ed253"
      },
      "execution_count": 28,
      "outputs": [
        {
          "output_type": "display_data",
          "data": {
            "text/plain": [
              "<Figure size 640x480 with 1 Axes>"
            ],
            "image/png": "[encoded data removed]"
          },
          "metadata": {}
        }
      ]
    },
    {
      "cell_type": "markdown",
      "source": [
        "Preprocess the text"
      ],
      "metadata": {
        "id": "zxMI9k6PDRNL"
      }
    },
    {
      "cell_type": "code",
      "source": [
        "# Thanks to https://www.kaggle.com/rftexas/text-only-kfold-bert\n",
        "abbreviations = {\n",
        "    \"$\" : \" dollar \",\n",
        "    \"€\" : \" euro \",\n",
        "    \"4ao\" : \"for adults only\",\n",
        "    \"a.m\" : \"before midday\",\n",
        "    \"a3\" : \"anytime anywhere anyplace\",\n",
        "    \"aamof\" : \"as a matter of fact\",\n",
        "    \"acct\" : \"account\",\n",
        "    \"adih\" : \"another day in hell\",\n",
        "    \"afaic\" : \"as far as i am concerned\",\n",
        "    \"afaict\" : \"as far as i can tell\",\n",
        "    \"afaik\" : \"as far as i know\",\n",
        "    \"afair\" : \"as far as i remember\",\n",
        "    \"afk\" : \"away from keyboard\",\n",
        "    \"app\" : \"application\",\n",
        "    \"approx\" : \"approximately\",\n",
        "    \"apps\" : \"applications\",\n",
        "    \"asap\" : \"as soon as possible\",\n",
        "    \"asl\" : \"age, sex, location\",\n",
        "    \"atk\" : \"at the keyboard\",\n",
        "    \"ave.\" : \"avenue\",\n",
        "    \"aymm\" : \"are you my mother\",\n",
        "    \"ayor\" : \"at your own risk\", \n",
        "    \"b&b\" : \"bed and breakfast\",\n",
        "    \"b+b\" : \"bed and breakfast\",\n",
        "    \"b.c\" : \"before christ\",\n",
        "    \"b2b\" : \"business to business\",\n",
        "    \"b2c\" : \"business to customer\",\n",
        "    \"b4\" : \"before\",\n",
        "    \"b4n\" : \"bye for now\",\n",
        "    \"b@u\" : \"back at you\",\n",
        "    \"bae\" : \"before anyone else\",\n",
        "    \"bak\" : \"back at keyboard\",\n",
        "    \"bbbg\" : \"bye bye be good\",\n",
        "    \"bbc\" : \"british broadcasting corporation\",\n",
        "    \"bbias\" : \"be back in a second\",\n",
        "    \"bbl\" : \"be back later\",\n",
        "    \"bbs\" : \"be back soon\",\n",
        "    \"be4\" : \"before\",\n",
        "    \"bfn\" : \"bye for now\",\n",
        "    \"blvd\" : \"boulevard\",\n",
        "    \"bout\" : \"about\",\n",
        "    \"brb\" : \"be right back\",\n",
        "    \"bros\" : \"brothers\",\n",
        "    \"brt\" : \"be right there\",\n",
        "    \"bsaaw\" : \"big smile and a wink\",\n",
        "    \"btw\" : \"by the way\",\n",
        "    \"bwl\" : \"bursting with laughter\",\n",
        "    \"c/o\" : \"care of\",\n",
        "    \"cet\" : \"central european time\",\n",
        "    \"cf\" : \"compare\",\n",
        "    \"cia\" : \"central intelligence agency\",\n",
        "    \"csl\" : \"can not stop laughing\",\n",
        "    \"cu\" : \"see you\",\n",
        "    \"cul8r\" : \"see you later\",\n",
        "    \"cv\" : \"curriculum vitae\",\n",
        "    \"cwot\" : \"complete waste of time\",\n",
        "    \"cya\" : \"see you\",\n",
        "    \"cyt\" : \"see you tomorrow\",\n",
        "    \"dae\" : \"does anyone else\",\n",
        "    \"dbmib\" : \"do not bother me i am busy\",\n",
        "    \"diy\" : \"do it yourself\",\n",
        "    \"dm\" : \"direct message\",\n",
        "    \"dwh\" : \"during work hours\",\n",
        "    \"e123\" : \"easy as one two three\",\n",
        "    \"eet\" : \"eastern european time\",\n",
        "    \"eg\" : \"example\",\n",
        "    \"embm\" : \"early morning business meeting\",\n",
        "    \"encl\" : \"enclosed\",\n",
        "    \"encl.\" : \"enclosed\",\n",
        "    \"etc\" : \"and so on\",\n",
        "    \"faq\" : \"frequently asked questions\",\n",
        "    \"fawc\" : \"for anyone who cares\",\n",
        "    \"fb\" : \"facebook\",\n",
        "    \"fc\" : \"fingers crossed\",\n",
        "    \"fig\" : \"figure\",\n",
        "    \"fimh\" : \"forever in my heart\", \n",
        "    \"ft.\" : \"feet\",\n",
        "    \"ft\" : \"featuring\",\n",
        "    \"ftl\" : \"for the loss\",\n",
        "    \"ftw\" : \"for the win\",\n",
        "    \"fwiw\" : \"for what it is worth\",\n",
        "    \"fyi\" : \"for your information\",\n",
        "    \"g9\" : \"genius\",\n",
        "    \"gahoy\" : \"get a hold of yourself\",\n",
        "    \"gal\" : \"get a life\",\n",
        "    \"gcse\" : \"general certificate of secondary education\",\n",
        "    \"gfn\" : \"gone for now\",\n",
        "    \"gg\" : \"good game\",\n",
        "    \"gl\" : \"good luck\",\n",
        "    \"glhf\" : \"good luck have fun\",\n",
        "    \"gmt\" : \"greenwich mean time\",\n",
        "    \"gmta\" : \"great minds think alike\",\n",
        "    \"gn\" : \"good night\",\n",
        "    \"g.o.a.t\" : \"greatest of all time\",\n",
        "    \"goat\" : \"greatest of all time\",\n",
        "    \"goi\" : \"get over it\",\n",
        "    \"gps\" : \"global positioning system\",\n",
        "    \"gr8\" : \"great\",\n",
        "    \"gratz\" : \"congratulations\",\n",
        "    \"gyal\" : \"girl\",\n",
        "    \"h&c\" : \"hot and cold\",\n",
        "    \"hp\" : \"horsepower\",\n",
        "    \"hr\" : \"hour\",\n",
        "    \"hrh\" : \"his royal highness\",\n",
        "    \"ht\" : \"height\",\n",
        "    \"ibrb\" : \"i will be right back\",\n",
        "    \"ic\" : \"i see\",\n",
        "    \"icq\" : \"i seek you\",\n",
        "    \"icymi\" : \"in case you missed it\",\n",
        "    \"idc\" : \"i do not care\",\n",
        "    \"idgadf\" : \"i do not give a damn fuck\",\n",
        "    \"idgaf\" : \"i do not give a fuck\",\n",
        "    \"idk\" : \"i do not know\",\n",
        "    \"ie\" : \"that is\",\n",
        "    \"i.e\" : \"that is\",\n",
        "    \"ifyp\" : \"i feel your pain\",\n",
        "    \"IG\" : \"instagram\",\n",
        "    \"iirc\" : \"if i remember correctly\",\n",
        "    \"ilu\" : \"i love you\",\n",
        "    \"ily\" : \"i love you\",\n",
        "    \"imho\" : \"in my humble opinion\",\n",
        "    \"imo\" : \"in my opinion\",\n",
        "    \"imu\" : \"i miss you\",\n",
        "    \"iow\" : \"in other words\",\n",
        "    \"irl\" : \"in real life\",\n",
        "    \"j4f\" : \"just for fun\",\n",
        "    \"jic\" : \"just in case\",\n",
        "    \"jk\" : \"just kidding\",\n",
        "    \"jsyk\" : \"just so you know\",\n",
        "    \"l8r\" : \"later\",\n",
        "    \"lb\" : \"pound\",\n",
        "    \"lbs\" : \"pounds\",\n",
        "    \"ldr\" : \"long distance relationship\",\n",
        "    \"lmao\" : \"laugh my ass off\",\n",
        "    \"lmfao\" : \"laugh my fucking ass off\",\n",
        "    \"lol\" : \"laughing out loud\",\n",
        "    \"ltd\" : \"limited\",\n",
        "    \"ltns\" : \"long time no see\",\n",
        "    \"m8\" : \"mate\",\n",
        "    \"mf\" : \"motherfucker\",\n",
        "    \"mfs\" : \"motherfuckers\",\n",
        "    \"mfw\" : \"my face when\",\n",
        "    \"mofo\" : \"motherfucker\",\n",
        "    \"mph\" : \"miles per hour\",\n",
        "    \"mr\" : \"mister\",\n",
        "    \"mrw\" : \"my reaction when\",\n",
        "    \"ms\" : \"miss\",\n",
        "    \"mte\" : \"my thoughts exactly\",\n",
        "    \"nagi\" : \"not a good idea\",\n",
        "    \"nbc\" : \"national broadcasting company\",\n",
        "    \"nbd\" : \"not big deal\",\n",
        "    \"nfs\" : \"not for sale\",\n",
        "    \"ngl\" : \"not going to lie\",\n",
        "    \"nhs\" : \"national health service\",\n",
        "    \"nrn\" : \"no reply necessary\",\n",
        "    \"nsfl\" : \"not safe for life\",\n",
        "    \"nsfw\" : \"not safe for work\",\n",
        "    \"nth\" : \"nice to have\",\n",
        "    \"nvr\" : \"never\",\n",
        "    \"nyc\" : \"new york city\",\n",
        "    \"oc\" : \"original content\",\n",
        "    \"og\" : \"original\",\n",
        "    \"ohp\" : \"overhead projector\",\n",
        "    \"oic\" : \"oh i see\",\n",
        "    \"omdb\" : \"over my dead body\",\n",
        "    \"omg\" : \"oh my god\",\n",
        "    \"omw\" : \"on my way\",\n",
        "    \"p.a\" : \"per annum\",\n",
        "    \"p.m\" : \"after midday\",\n",
        "    \"pm\" : \"prime minister\",\n",
        "    \"poc\" : \"people of color\",\n",
        "    \"pov\" : \"point of view\",\n",
        "    \"pp\" : \"pages\",\n",
        "    \"ppl\" : \"people\",\n",
        "    \"prw\" : \"parents are watching\",\n",
        "    \"ps\" : \"postscript\",\n",
        "    \"pt\" : \"point\",\n",
        "    \"ptb\" : \"please text back\",\n",
        "    \"pto\" : \"please turn over\",\n",
        "    \"qpsa\" : \"what happens\", #\"que pasa\",\n",
        "    \"ratchet\" : \"rude\",\n",
        "    \"rbtl\" : \"read between the lines\",\n",
        "    \"rlrt\" : \"real life retweet\", \n",
        "    \"rofl\" : \"rolling on the floor laughing\",\n",
        "    \"roflol\" : \"rolling on the floor laughing out loud\",\n",
        "    \"rotflmao\" : \"rolling on the floor laughing my ass off\",\n",
        "    \"rt\" : \"retweet\",\n",
        "    \"ruok\" : \"are you ok\",\n",
        "    \"sfw\" : \"safe for work\",\n",
        "    \"sk8\" : \"skate\",\n",
        "    \"smh\" : \"shake my head\",\n",
        "    \"sq\" : \"square\",\n",
        "    \"srsly\" : \"seriously\", \n",
        "    \"ssdd\" : \"same stuff different day\",\n",
        "    \"tbh\" : \"to be honest\",\n",
        "    \"tbs\" : \"tablespooful\",\n",
        "    \"tbsp\" : \"tablespooful\",\n",
        "    \"tfw\" : \"that feeling when\",\n",
        "    \"thks\" : \"thank you\",\n",
        "    \"tho\" : \"though\",\n",
        "    \"thx\" : \"thank you\",\n",
        "    \"tia\" : \"thanks in advance\",\n",
        "    \"til\" : \"today i learned\",\n",
        "    \"tl;dr\" : \"too long i did not read\",\n",
        "    \"tldr\" : \"too long i did not read\",\n",
        "    \"tmb\" : \"tweet me back\",\n",
        "    \"tntl\" : \"trying not to laugh\",\n",
        "    \"ttyl\" : \"talk to you later\",\n",
        "    \"u\" : \"you\",\n",
        "    \"u2\" : \"you too\",\n",
        "    \"u4e\" : \"yours for ever\",\n",
        "    \"utc\" : \"coordinated universal time\",\n",
        "    \"w/\" : \"with\",\n",
        "    \"w/o\" : \"without\",\n",
        "    \"w8\" : \"wait\",\n",
        "    \"wassup\" : \"what is up\",\n",
        "    \"wb\" : \"welcome back\",\n",
        "    \"wtf\" : \"what the fuck\",\n",
        "    \"wtg\" : \"way to go\",\n",
        "    \"wtpa\" : \"where the party at\",\n",
        "    \"wuf\" : \"where are you from\",\n",
        "    \"wuzup\" : \"what is up\",\n",
        "    \"wywh\" : \"wish you were here\",\n",
        "    \"yd\" : \"yard\",\n",
        "    \"ygtr\" : \"you got that right\",\n",
        "    \"ynk\" : \"you never know\",\n",
        "    \"zzz\" : \"sleeping bored and tired\"\n",
        "}"
      ],
      "metadata": {
        "id": "T4HrrBkPDOzF"
      },
      "execution_count": 29,
      "outputs": []
    },
    {
      "cell_type": "code",
      "source": [
        "# Thanks to https://www.kaggle.com/code/stoicstatic/twitter-sentiment-analysis-for-beginners\n",
        "# Defining dictionary containing all emojis with their meanings.\n",
        "emojis = {':)': 'smile', ':-)': 'smile', ';d': 'wink', ':-E': 'vampire', ':(': 'sad', \n",
        "          ':-(': 'sad', ':-<': 'sad', ':P': 'raspberry', ':O': 'surprised',\n",
        "          ':-@': 'shocked', ':@': 'shocked',':-$': 'confused', ':\\\\': 'annoyed', \n",
        "          ':#': 'mute', ':X': 'mute', ':^)': 'smile', ':-&': 'confused', '$_$': 'greedy',\n",
        "          '@@': 'eyeroll', ':-!': 'confused', ':-D': 'smile', ':-0': 'yell', 'O.o': 'confused',\n",
        "          '<(-_-)>': 'robot', 'd[-_-]b': 'dj', \":'-)\": 'sadsmile', ';)': 'wink', \n",
        "          ';-)': 'wink', 'O:-)': 'angel','O*-)': 'angel','(:-D': 'gossip', '=^.^=': 'cat'}"
      ],
      "metadata": {
        "id": "nqjyPttCDVzJ"
      },
      "execution_count": 30,
      "outputs": []
    },
    {
      "cell_type": "code",
      "source": [
        "import nltk\n",
        "from nltk.corpus import stopwords\n",
        "from nltk.stem import WordNetLemmatizer\n",
        "import re\n",
        "\n",
        "nltk.download('wordnet')\n",
        "nltk.download('stopwords')\n",
        "nltk.download('punkt')"
      ],
      "metadata": {
        "colab": {
          "base_uri": "https://localhost:8080/"
        },
        "id": "4xWyki6eDWuj",
        "outputId": "f1ce2ee9-3ff1-47b4-f70e-ef03493d25a7"
      },
      "execution_count": 31,
      "outputs": [
        {
          "output_type": "stream",
          "name": "stderr",
          "text": [
            "[nltk_data] Downloading package wordnet to /root/nltk_data...\n",
            "[nltk_data] Downloading package stopwords to /root/nltk_data...\n",
            "[nltk_data]   Unzipping corpora/stopwords.zip.\n",
            "[nltk_data] Downloading package punkt to /root/nltk_data...\n",
            "[nltk_data]   Unzipping tokenizers/punkt.zip.\n"
          ]
        },
        {
          "output_type": "execute_result",
          "data": {
            "text/plain": [
              "True"
            ]
          },
          "metadata": {},
          "execution_count": 31
        }
      ]
    },
    {
      "cell_type": "code",
      "source": [
        "wnl = WordNetLemmatizer()"
      ],
      "metadata": {
        "id": "UhZuIXsRDXtw"
      },
      "execution_count": 32,
      "outputs": []
    },
    {
      "cell_type": "code",
      "source": [
        "# Thanks to https://www.kaggle.com/code/stoicstatic/twitter-sentiment-analysis-for-beginners\n",
        "# for some ideas.\n",
        "\n",
        "# Replace URLs with 'URL' (http/https/www)\n",
        "def replace_urls(text):\n",
        "  return re.sub(r'((http://)[^ ]*|(https://)[^ ]*|(www\\.)[^ ]*)', 'URL', text)\n",
        "\n",
        "def remove_urls(text):\n",
        "  return re.sub(r'((http://)[^ ]*|(https://)[^ ]*|(www\\.)[^ ]*)', '', text)\n",
        "\n",
        "# Replace @username with USER\n",
        "def replace_usernames(text):\n",
        "  return re.sub(r'@[^\\s]+', 'USER', text)\n",
        "\n",
        "def remove_usernames(text):\n",
        "  return re.sub(r'@[^\\s]+', '', text)\n",
        "\n",
        "# Replace abbreviations (ftw -> for the win)\n",
        "def replace_abbr(text):\n",
        "  texts = []\n",
        "  for word in text.split(\" \"):\n",
        "    if word in abbreviations:\n",
        "      texts.append(abbreviations[word])\n",
        "    else:\n",
        "      texts.append(word)\n",
        "  return \" \".join(texts)\n",
        "\n",
        "# Replace emojis with words\n",
        "def replace_emojis(text):\n",
        "  texts = []\n",
        "  for word in text.split(\" \"):\n",
        "    if word in emojis:\n",
        "      texts.append(emojis[word])\n",
        "    else:\n",
        "      texts.append(word)\n",
        "  return \" \".join(texts)\n",
        "\n",
        "# Remove stop words\n",
        "stopwords_set = set(stopwords.words(\"english\"))\n",
        "def remove_stop_words(text):\n",
        "  text_list = [w for w in text.split(\" \") if ((w not in stopwords_set) and (not w.strip() == \"\"))]\n",
        "  return \" \".join(text_list)\n",
        "\n",
        "# Remove non-alphanumeric characters\n",
        "def remove_non_alphanum(text):\n",
        "  return re.sub(r'[^a-zA-Z0-9|\\s]', \"\", text)\n",
        "\n",
        "# Remove repeating characters (3+ repeating letters with 2 letters)\n",
        "def remove_repeating_chars(text):\n",
        "  text = re.sub(r'(.)\\1\\1+',r'\\1\\1', text)\n",
        "  return text\n",
        "\n",
        "# Replace numerical characters\n",
        "def replace_numbers(text):\n",
        "  return re.sub(r'[0-9]+', 'NUM', text)\n",
        "\n",
        "def remove_numbers(text):\n",
        "  return re.sub(r'[0-9]+', '', text)\n",
        "\n",
        "# Lemmatize\n",
        "def lemmatize_text(text):\n",
        "  text_list = [wnl.lemmatize(w) for w in text.split(\" \")]\n",
        "  return \" \".join(text_list)\n",
        "\n",
        "# Remove empty spaces\n",
        "def remove_empty(text):\n",
        "  text = [w for w in text.split(\" \") if (not w.strip() == \"\")]\n",
        "  return \" \".join(text)\n",
        "\n",
        "# Remove words shorter than 2 characters\n",
        "def remove_short_words(text):\n",
        "  text = [w for w in text.split(\" \") if len(w) > 1]\n",
        "  return \" \".join(text)"
      ],
      "metadata": {
        "id": "uBh7HdWWDYzH"
      },
      "execution_count": 33,
      "outputs": []
    },
    {
      "cell_type": "code",
      "source": [
        "def clean_text(text):\n",
        "  text = text.lower()\n",
        "\n",
        "  #text = replace_urls(text)\n",
        "  text = remove_urls(text)\n",
        "  #text = replace_usernames(text)\n",
        "  text = remove_usernames(text)\n",
        "  text = replace_abbr(text)\n",
        "  text = replace_emojis(text)\n",
        "  #text = remove_stop_words(text)\n",
        "  text = remove_non_alphanum(text)\n",
        "  text = remove_repeating_chars(text)\n",
        "  #text = replace_numbers(text)\n",
        "  text = remove_numbers(text)\n",
        "  #text = lemmatize_text(text)\n",
        "  text = remove_empty(text)\n",
        "  #text = remove_short_words(text)\n",
        "\n",
        "  return text"
      ],
      "metadata": {
        "id": "FIzOG6z3DcL3"
      },
      "execution_count": 43,
      "outputs": []
    },
    {
      "cell_type": "code",
      "source": [
        "def clean_df(df, src_col, target_col):\n",
        "  df_copy = df.copy()\n",
        "  df_copy[target_col] = df[src_col].astype(str).apply(lambda x:clean_text(x))\n",
        "  return df_copy"
      ],
      "metadata": {
        "id": "EJHCAkXjDeBA"
      },
      "execution_count": 44,
      "outputs": []
    },
    {
      "cell_type": "code",
      "source": [
        "for i in range(10):\n",
        "  print(data_copy.loc[i].text)\n",
        "  print(clean_text(data_copy.loc[i].text))\n",
        "  print()"
      ],
      "metadata": {
        "colab": {
          "base_uri": "https://localhost:8080/"
        },
        "id": "XF5hjdWsDfUC",
        "outputId": "27e5eeed-b667-4c73-d418-68329d2eb875"
      },
      "execution_count": 47,
      "outputs": [
        {
          "output_type": "stream",
          "name": "stdout",
          "text": [
            "@switchfoot http://twitpic.com/2y1zl - Awww, that's a bummer.  You shoulda got David Carr of Third Day to do it. ;D\n",
            "aww thats a bummer you shoulda got david carr of third day to do it wink\n",
            "\n",
            "is upset that he can't update his Facebook by texting it... and might cry as a result  School today also. Blah!\n",
            "is upset that he cant update his facebook by texting it and might cry as a result school today also blah\n",
            "\n",
            "@Kenichan I dived many times for the ball. Managed to save 50%  The rest go out of bounds\n",
            "i dived many times for the ball managed to save the rest go out of bounds\n",
            "\n",
            "my whole body feels itchy and like its on fire \n",
            "my whole body feels itchy and like its on fire\n",
            "\n",
            "@nationwideclass no, it's not behaving at all. i'm mad. why am i here? because I can't see you all over there. \n",
            "no its not behaving at all im mad why am i here because i cant see you all over there\n",
            "\n",
            "@Kwesidei not the whole crew \n",
            "not the whole crew\n",
            "\n",
            "Need a hug \n",
            "need a hug\n",
            "\n",
            "@LOLTrish hey  long time no see! Yes.. Rains a bit ,only a bit  LOL , I'm fine thanks , how's you ?\n",
            "hey long time no see yes rains a bit only a bit laughing out loud im fine thanks hows you\n",
            "\n",
            "@Tatiana_K nope they didn't have it \n",
            "nope they didnt have it\n",
            "\n",
            "@twittera que me muera ? \n",
            "que me muera\n",
            "\n"
          ]
        }
      ]
    },
    {
      "cell_type": "markdown",
      "source": [
        "Note: Words like \"not\" and \"no\" are stop words, but since they have importance in the meaning of a tweet, I keep the stopwords in the text."
      ],
      "metadata": {
        "id": "pNtDZ5TQDsem"
      }
    },
    {
      "cell_type": "code",
      "source": [
        "print(\"no\" in STOPWORDS)\n",
        "print(\"not\" in STOPWORDS)"
      ],
      "metadata": {
        "colab": {
          "base_uri": "https://localhost:8080/"
        },
        "id": "V8UULTrPD07x",
        "outputId": "813562c0-e6d6-4973-f6e1-6c09bdcf0f03"
      },
      "execution_count": 48,
      "outputs": [
        {
          "output_type": "stream",
          "name": "stdout",
          "text": [
            "True\n",
            "True\n"
          ]
        }
      ]
    },
    {
      "cell_type": "markdown",
      "source": [
        "Note: The lemmatizer (defaulting pos value as \"n\") seems to change \"was\" to \"wa\", which is not correct. For my approach, I will not apply the lemmatizer."
      ],
      "metadata": {
        "id": "aewdG4g7D2CU"
      }
    },
    {
      "cell_type": "code",
      "source": [
        "text = \"I am not happy. Wasn't happy. was are am\"\n",
        "\n",
        "print(nltk.word_tokenize(text))\n",
        "print(clean_text(text))\n",
        "print(lemmatize_text(\" \".join(nltk.word_tokenize(text))))"
      ],
      "metadata": {
        "colab": {
          "base_uri": "https://localhost:8080/"
        },
        "id": "czKArEFCDgDw",
        "outputId": "8e674a69-05e3-413b-b77b-4ef64ba2fd7b"
      },
      "execution_count": 49,
      "outputs": [
        {
          "output_type": "stream",
          "name": "stdout",
          "text": [
            "['I', 'am', 'not', 'happy', '.', 'Was', \"n't\", 'happy', '.', 'was', 'are', 'am']\n",
            "i am not happy wasnt happy was are am\n",
            "I am not happy . Was n't happy . wa are am\n"
          ]
        }
      ]
    },
    {
      "cell_type": "markdown",
      "source": [
        "Since there are 1.6 million entries, the training will take a long time, especially for the BERT model. I use a subset of the data instead."
      ],
      "metadata": {
        "id": "mqtKjgrJE8Da"
      }
    },
    {
      "cell_type": "code",
      "source": [
        "ENTRIES = 160000"
      ],
      "metadata": {
        "id": "_yDE_fWdFJsE"
      },
      "execution_count": 62,
      "outputs": []
    },
    {
      "cell_type": "code",
      "source": [
        "df_bert_neg = data[data['label']==0][:ENTRIES]\n",
        "df_bert_pos = data[data['label']==1][:ENTRIES]\n",
        "\n",
        "# Combine entries\n",
        "df_bert = pd.concat([df_bert_neg, df_bert_pos])"
      ],
      "metadata": {
        "id": "I0oDpRNrFMJX"
      },
      "execution_count": 63,
      "outputs": []
    },
    {
      "cell_type": "code",
      "source": [
        "df_bert['label'].value_counts()"
      ],
      "metadata": {
        "colab": {
          "base_uri": "https://localhost:8080/"
        },
        "id": "SZLvj2LbFL-p",
        "outputId": "36861df5-954f-4ba8-83a7-da788b53b7b8"
      },
      "execution_count": 64,
      "outputs": [
        {
          "output_type": "execute_result",
          "data": {
            "text/plain": [
              "0    160000\n",
              "1    160000\n",
              "Name: label, dtype: int64"
            ]
          },
          "metadata": {},
          "execution_count": 64
        }
      ]
    },
    {
      "cell_type": "code",
      "source": [
        "df_bert = clean_df(df_bert, 'text', 'cleaned_text')"
      ],
      "metadata": {
        "id": "VD-0vsjEFL4I"
      },
      "execution_count": 65,
      "outputs": []
    },
    {
      "cell_type": "code",
      "source": [
        "df_bert[:10]"
      ],
      "metadata": {
        "colab": {
          "base_uri": "https://localhost:8080/",
          "height": 363
        },
        "id": "3EJmRx7EERh-",
        "outputId": "186f520f-07de-4889-cf8e-b9ffee3fb336"
      },
      "execution_count": 67,
      "outputs": [
        {
          "output_type": "execute_result",
          "data": {
            "text/plain": [
              "   label                                               text  \\\n",
              "0      0  @switchfoot http://twitpic.com/2y1zl - Awww, t...   \n",
              "1      0  is upset that he can't update his Facebook by ...   \n",
              "2      0  @Kenichan I dived many times for the ball. Man...   \n",
              "3      0    my whole body feels itchy and like its on fire    \n",
              "4      0  @nationwideclass no, it's not behaving at all....   \n",
              "5      0                      @Kwesidei not the whole crew    \n",
              "6      0                                        Need a hug    \n",
              "7      0  @LOLTrish hey  long time no see! Yes.. Rains a...   \n",
              "8      0               @Tatiana_K nope they didn't have it    \n",
              "9      0                          @twittera que me muera ?    \n",
              "\n",
              "                                        cleaned_text  \n",
              "0  aww thats a bummer you shoulda got david carr ...  \n",
              "1  is upset that he cant update his facebook by t...  \n",
              "2  i dived many times for the ball managed to sav...  \n",
              "3     my whole body feels itchy and like its on fire  \n",
              "4  no its not behaving at all im mad why am i her...  \n",
              "5                                 not the whole crew  \n",
              "6                                         need a hug  \n",
              "7  hey long time no see yes rains a bit only a bi...  \n",
              "8                            nope they didnt have it  \n",
              "9                                       que me muera  "
            ],
            "text/html": [
              "\n",
              "  <div id=\"df-7ad5b963-af94-4ec8-a28a-ab0101163b83\">\n",
              "    <div class=\"colab-df-container\">\n",
              "      <div>\n",
              "<style scoped>\n",
              "    .dataframe tbody tr th:only-of-type {\n",
              "        vertical-align: middle;\n",
              "    }\n",
              "\n",
              "    .dataframe tbody tr th {\n",
              "        vertical-align: top;\n",
              "    }\n",
              "\n",
              "    .dataframe thead th {\n",
              "        text-align: right;\n",
              "    }\n",
              "</style>\n",
              "<table border=\"1\" class=\"dataframe\">\n",
              "  <thead>\n",
              "    <tr style=\"text-align: right;\">\n",
              "      <th></th>\n",
              "      <th>label</th>\n",
              "      <th>text</th>\n",
              "      <th>cleaned_text</th>\n",
              "    </tr>\n",
              "  </thead>\n",
              "  <tbody>\n",
              "    <tr>\n",
              "      <th>0</th>\n",
              "      <td>0</td>\n",
              "      <td>@switchfoot http://twitpic.com/2y1zl - Awww, t...</td>\n",
              "      <td>aww thats a bummer you shoulda got david carr ...</td>\n",
              "    </tr>\n",
              "    <tr>\n",
              "      <th>1</th>\n",
              "      <td>0</td>\n",
              "      <td>is upset that he can't update his Facebook by ...</td>\n",
              "      <td>is upset that he cant update his facebook by t...</td>\n",
              "    </tr>\n",
              "    <tr>\n",
              "      <th>2</th>\n",
              "      <td>0</td>\n",
              "      <td>@Kenichan I dived many times for the ball. Man...</td>\n",
              "      <td>i dived many times for the ball managed to sav...</td>\n",
              "    </tr>\n",
              "    <tr>\n",
              "      <th>3</th>\n",
              "      <td>0</td>\n",
              "      <td>my whole body feels itchy and like its on fire</td>\n",
              "      <td>my whole body feels itchy and like its on fire</td>\n",
              "    </tr>\n",
              "    <tr>\n",
              "      <th>4</th>\n",
              "      <td>0</td>\n",
              "      <td>@nationwideclass no, it's not behaving at all....</td>\n",
              "      <td>no its not behaving at all im mad why am i her...</td>\n",
              "    </tr>\n",
              "    <tr>\n",
              "      <th>5</th>\n",
              "      <td>0</td>\n",
              "      <td>@Kwesidei not the whole crew</td>\n",
              "      <td>not the whole crew</td>\n",
              "    </tr>\n",
              "    <tr>\n",
              "      <th>6</th>\n",
              "      <td>0</td>\n",
              "      <td>Need a hug</td>\n",
              "      <td>need a hug</td>\n",
              "    </tr>\n",
              "    <tr>\n",
              "      <th>7</th>\n",
              "      <td>0</td>\n",
              "      <td>@LOLTrish hey  long time no see! Yes.. Rains a...</td>\n",
              "      <td>hey long time no see yes rains a bit only a bi...</td>\n",
              "    </tr>\n",
              "    <tr>\n",
              "      <th>8</th>\n",
              "      <td>0</td>\n",
              "      <td>@Tatiana_K nope they didn't have it</td>\n",
              "      <td>nope they didnt have it</td>\n",
              "    </tr>\n",
              "    <tr>\n",
              "      <th>9</th>\n",
              "      <td>0</td>\n",
              "      <td>@twittera que me muera ?</td>\n",
              "      <td>que me muera</td>\n",
              "    </tr>\n",
              "  </tbody>\n",
              "</table>\n",
              "</div>\n",
              "      <button class=\"colab-df-convert\" onclick=\"convertToInteractive('df-7ad5b963-af94-4ec8-a28a-ab0101163b83')\"\n",
              "              title=\"Convert this dataframe to an interactive table.\"\n",
              "              style=\"display:none;\">\n",
              "        \n",
              "  <svg xmlns=\"http://www.w3.org/2000/svg\" height=\"24px\"viewBox=\"0 0 24 24\"\n",
              "       width=\"24px\">\n",
              "    <path d=\"M0 0h24v24H0V0z\" fill=\"none\"/>\n",
              "    <path d=\"M18.56 5.44l.94 2.06.94-2.06 2.06-.94-2.06-.94-.94-2.06-.94 2.06-2.06.94zm-11 1L8.5 8.5l.94-2.06 2.06-.94-2.06-.94L8.5 2.5l-.94 2.06-2.06.94zm10 10l.94 2.06.94-2.06 2.06-.94-2.06-.94-.94-2.06-.94 2.06-2.06.94z\"/><path d=\"M17.41 7.96l-1.37-1.37c-.4-.4-.92-.59-1.43-.59-.52 0-1.04.2-1.43.59L10.3 9.45l-7.72 7.72c-.78.78-.78 2.05 0 2.83L4 21.41c.39.39.9.59 1.41.59.51 0 1.02-.2 1.41-.59l7.78-7.78 2.81-2.81c.8-.78.8-2.07 0-2.86zM5.41 20L4 18.59l7.72-7.72 1.47 1.35L5.41 20z\"/>\n",
              "  </svg>\n",
              "      </button>\n",
              "      \n",
              "  <style>\n",
              "    .colab-df-container {\n",
              "      display:flex;\n",
              "      flex-wrap:wrap;\n",
              "      gap: 12px;\n",
              "    }\n",
              "\n",
              "    .colab-df-convert {\n",
              "      background-color: #E8F0FE;\n",
              "      border: none;\n",
              "      border-radius: 50%;\n",
              "      cursor: pointer;\n",
              "      display: none;\n",
              "      fill: #1967D2;\n",
              "      height: 32px;\n",
              "      padding: 0 0 0 0;\n",
              "      width: 32px;\n",
              "    }\n",
              "\n",
              "    .colab-df-convert:hover {\n",
              "      background-color: #E2EBFA;\n",
              "      box-shadow: 0px 1px 2px rgba(60, 64, 67, 0.3), 0px 1px 3px 1px rgba(60, 64, 67, 0.15);\n",
              "      fill: #174EA6;\n",
              "    }\n",
              "\n",
              "    [theme=dark] .colab-df-convert {\n",
              "      background-color: #3B4455;\n",
              "      fill: #D2E3FC;\n",
              "    }\n",
              "\n",
              "    [theme=dark] .colab-df-convert:hover {\n",
              "      background-color: #434B5C;\n",
              "      box-shadow: 0px 1px 3px 1px rgba(0, 0, 0, 0.15);\n",
              "      filter: drop-shadow(0px 1px 2px rgba(0, 0, 0, 0.3));\n",
              "      fill: #FFFFFF;\n",
              "    }\n",
              "  </style>\n",
              "\n",
              "      <script>\n",
              "        const buttonEl =\n",
              "          document.querySelector('#df-7ad5b963-af94-4ec8-a28a-ab0101163b83 button.colab-df-convert');\n",
              "        buttonEl.style.display =\n",
              "          google.colab.kernel.accessAllowed ? 'block' : 'none';\n",
              "\n",
              "        async function convertToInteractive(key) {\n",
              "          const element = document.querySelector('#df-7ad5b963-af94-4ec8-a28a-ab0101163b83');\n",
              "          const dataTable =\n",
              "            await google.colab.kernel.invokeFunction('convertToInteractive',\n",
              "                                                     [key], {});\n",
              "          if (!dataTable) return;\n",
              "\n",
              "          const docLinkHtml = 'Like what you see? Visit the ' +\n",
              "            '<a target=\"_blank\" href=https://colab.research.google.com/notebooks/data_table.ipynb>data table notebook</a>'\n",
              "            + ' to learn more about interactive tables.';\n",
              "          element.innerHTML = '';\n",
              "          dataTable['output_type'] = 'display_data';\n",
              "          await google.colab.output.renderOutput(dataTable, element);\n",
              "          const docLink = document.createElement('div');\n",
              "          docLink.innerHTML = docLinkHtml;\n",
              "          element.appendChild(docLink);\n",
              "        }\n",
              "      </script>\n",
              "    </div>\n",
              "  </div>\n",
              "  "
            ]
          },
          "metadata": {},
          "execution_count": 67
        }
      ]
    },
    {
      "cell_type": "code",
      "source": [
        "X_clean = df_bert.cleaned_text.values\n",
        "y_clean = df_bert.label"
      ],
      "metadata": {
        "id": "vQV9cm1RFLzA"
      },
      "execution_count": 68,
      "outputs": []
    },
    {
      "cell_type": "markdown",
      "source": [
        "### Transformer Encoder Model"
      ],
      "metadata": {
        "id": "CbPuGbbtFdr6"
      }
    },
    {
      "cell_type": "markdown",
      "source": [
        "I use the Encoder block of the Transformer architecture, based on the paper: https://arxiv.org/abs/1706.03762\n",
        "\n",
        "![image](https://th.bing.com/th/id/OIP.ANp02TCmA6Nw0obCRoBFawAAAA?pid=ImgDet&rs=1)"
      ],
      "metadata": {
        "id": "RTA1KBxoGS21"
      }
    },
    {
      "cell_type": "markdown",
      "source": [
        "For this custom model, the inputs will be sequences of tokens with padding to make sure the examples have the same input size."
      ],
      "metadata": {
        "id": "Ky4HwXL9Gj5D"
      }
    },
    {
      "cell_type": "markdown",
      "source": [
        "Tokenize the text"
      ],
      "metadata": {
        "id": "9oFVWib2EgXg"
      }
    },
    {
      "cell_type": "code",
      "execution_count": 69,
      "metadata": {
        "id": "J5CY24I_MLfA"
      },
      "outputs": [],
      "source": [
        "from keras.preprocessing.text import Tokenizer\n",
        "from keras.utils import pad_sequences"
      ]
    },
    {
      "cell_type": "code",
      "execution_count": 70,
      "metadata": {
        "id": "V9K6w-udMLc_"
      },
      "outputs": [],
      "source": [
        "tokenizer = Tokenizer()"
      ]
    },
    {
      "cell_type": "code",
      "execution_count": 71,
      "metadata": {
        "id": "wizRGoN5MLao"
      },
      "outputs": [],
      "source": [
        "tokenizer.fit_on_texts(X_clean)"
      ]
    },
    {
      "cell_type": "code",
      "execution_count": 72,
      "metadata": {
        "id": "bOx9WsmNFCMv",
        "colab": {
          "base_uri": "https://localhost:8080/"
        },
        "outputId": "05d5a2c9-6c61-42af-d1ae-6cf4a14d00d3"
      },
      "outputs": [
        {
          "output_type": "stream",
          "name": "stdout",
          "text": [
            "[201, 103, 4, 1270, 6, 3791, 50, 660, 8259, 12, 1796, 28, 2, 40, 9, 293]\n"
          ]
        }
      ],
      "source": [
        "print(tokenizer.texts_to_sequences(X_clean)[0])"
      ]
    },
    {
      "cell_type": "code",
      "execution_count": 73,
      "metadata": {
        "id": "a5pJfrCbM6aT",
        "colab": {
          "base_uri": "https://localhost:8080/"
        },
        "outputId": "d5fd0a02-d8e7-48db-ba06-f56f642f0ac4"
      },
      "outputs": [
        {
          "output_type": "stream",
          "name": "stdout",
          "text": [
            "aww thats a bummer you shoulda got david carr of third day to do it wink\n"
          ]
        }
      ],
      "source": [
        "print(X_clean[0])"
      ]
    },
    {
      "cell_type": "code",
      "execution_count": 74,
      "metadata": {
        "id": "9UDrgRsQMbRa"
      },
      "outputs": [],
      "source": [
        "X = tokenizer.texts_to_sequences(X_clean)"
      ]
    },
    {
      "cell_type": "markdown",
      "source": [
        "Pad the sequences"
      ],
      "metadata": {
        "id": "pBgPHazPElZ_"
      }
    },
    {
      "cell_type": "code",
      "source": [
        "max_len=40"
      ],
      "metadata": {
        "id": "iublCSZZB1sF"
      },
      "execution_count": 75,
      "outputs": []
    },
    {
      "cell_type": "code",
      "execution_count": 76,
      "metadata": {
        "id": "TxAOQtuJMbPd"
      },
      "outputs": [],
      "source": [
        "X = keras.preprocessing.sequence.pad_sequences(X, maxlen=max_len)"
      ]
    },
    {
      "cell_type": "code",
      "execution_count": 77,
      "metadata": {
        "id": "v1pWOJivMbNT",
        "colab": {
          "base_uri": "https://localhost:8080/"
        },
        "outputId": "f1d339d0-e060-4f66-bb16-a22c85bc46c2"
      },
      "outputs": [
        {
          "output_type": "stream",
          "name": "stdout",
          "text": [
            "[   0    0    0    0    0    0    0    0    0    0    0    0    0    0\n",
            "    0    0    0    0    0    0    0    0    0    0  201  103    4 1270\n",
            "    6 3791   50  660 8259   12 1796   28    2   40    9  293]\n"
          ]
        }
      ],
      "source": [
        "print(X[0])"
      ]
    },
    {
      "cell_type": "markdown",
      "source": [
        "Train-test split"
      ],
      "metadata": {
        "id": "OB0DkJXVEpga"
      }
    },
    {
      "cell_type": "code",
      "source": [
        "X_train, X_val, y_train, y_val = train_test_split(X, y_clean, test_size=0.2, random_state=42)"
      ],
      "metadata": {
        "id": "7lBgRPZqEojR"
      },
      "execution_count": 78,
      "outputs": []
    },
    {
      "cell_type": "code",
      "source": [
        "X_train[0]"
      ],
      "metadata": {
        "colab": {
          "base_uri": "https://localhost:8080/"
        },
        "id": "u3FOFrakFyL8",
        "outputId": "d88bfd8b-12b3-4106-8dbf-1531d0e1fbdc"
      },
      "execution_count": 79,
      "outputs": [
        {
          "output_type": "execute_result",
          "data": {
            "text/plain": [
              "array([  0,   0,   0,   0,   0,   0,   0,   0,   0,   0,   0,   0,   0,\n",
              "         0,   0,   0,   0,   0,   0,   0,   0,   0,   0,   0,   0,   0,\n",
              "         0,   0,   0,   0,   0,   0,   0,   0,   0,   1,  97, 479,   2,\n",
              "         6], dtype=int32)"
            ]
          },
          "metadata": {},
          "execution_count": 79
        }
      ]
    },
    {
      "cell_type": "code",
      "source": [
        "y_train.iloc[0]"
      ],
      "metadata": {
        "colab": {
          "base_uri": "https://localhost:8080/"
        },
        "id": "7iWDU-luFyJa",
        "outputId": "3de11a35-3ce7-4708-ba3a-880cb479ef27"
      },
      "execution_count": 81,
      "outputs": [
        {
          "output_type": "execute_result",
          "data": {
            "text/plain": [
              "0"
            ]
          },
          "metadata": {},
          "execution_count": 81
        }
      ]
    },
    {
      "cell_type": "code",
      "source": [
        "y_train.value_counts()"
      ],
      "metadata": {
        "colab": {
          "base_uri": "https://localhost:8080/"
        },
        "id": "9sc4vSAvFyHP",
        "outputId": "8608b5c0-7c00-4643-b3de-5648d632e0b7"
      },
      "execution_count": 82,
      "outputs": [
        {
          "output_type": "execute_result",
          "data": {
            "text/plain": [
              "1    128066\n",
              "0    127934\n",
              "Name: label, dtype: int64"
            ]
          },
          "metadata": {},
          "execution_count": 82
        }
      ]
    },
    {
      "cell_type": "code",
      "source": [
        "y_val.value_counts()"
      ],
      "metadata": {
        "colab": {
          "base_uri": "https://localhost:8080/"
        },
        "id": "ZMXEGNT2FyFD",
        "outputId": "4fd3d766-5bf6-4d7e-fa1e-46e8219368ca"
      },
      "execution_count": 83,
      "outputs": [
        {
          "output_type": "execute_result",
          "data": {
            "text/plain": [
              "0    32066\n",
              "1    31934\n",
              "Name: label, dtype: int64"
            ]
          },
          "metadata": {},
          "execution_count": 83
        }
      ]
    },
    {
      "cell_type": "code",
      "source": [
        "X_train.shape, X_val.shape"
      ],
      "metadata": {
        "colab": {
          "base_uri": "https://localhost:8080/"
        },
        "id": "CxjlQ8qHFyBw",
        "outputId": "1778e1b6-00fd-45a6-ae76-6a8f0c227ae5"
      },
      "execution_count": 84,
      "outputs": [
        {
          "output_type": "execute_result",
          "data": {
            "text/plain": [
              "((256000, 40), (64000, 40))"
            ]
          },
          "metadata": {},
          "execution_count": 84
        }
      ]
    },
    {
      "cell_type": "markdown",
      "source": [
        "#### Model architecture"
      ],
      "metadata": {
        "id": "2uMKWaz8GxYv"
      }
    },
    {
      "cell_type": "markdown",
      "source": [
        "Define some constants"
      ],
      "metadata": {
        "id": "ibW1QtspHLh-"
      }
    },
    {
      "cell_type": "code",
      "source": [
        "# Max size of vocabulary to consider\n",
        "vocab_size = len(tokenizer.word_index) + 1\n",
        "\n",
        "# Embedding dimension for each token\n",
        "embed_dim = 32 # 512\n",
        "# Number of attention heads\n",
        "num_heads = 8 # 8\n",
        "# Hidden layer size in Feed Forward network\n",
        "d_ff = 2048\n",
        "# Number of encoder layers\n",
        "n_layers = 1\n",
        "\n",
        "dropout_rate = 0.1"
      ],
      "metadata": {
        "id": "x70WXYNBHJ7E"
      },
      "execution_count": 86,
      "outputs": []
    },
    {
      "cell_type": "markdown",
      "source": [
        "##### Input Embedding and Positional Encoding"
      ],
      "metadata": {
        "id": "w18VZOufHDzT"
      }
    },
    {
      "cell_type": "markdown",
      "source": [
        "Positional encodings are computed as:\n",
        "- $PE_{(pos, 2i)} = sin(pos/10000^{\\frac{2i}{d_{model}}})$\n",
        "\n",
        "- $PE_{(pos, 2i+1)} = cos(pos/10000^{\\frac{2i}{d_{model}}})$"
      ],
      "metadata": {
        "id": "qBYB_WRaHHwx"
      }
    },
    {
      "cell_type": "code",
      "source": [
        "# Thanks to https://www.tensorflow.org/text/tutorials/transformer#the_embedding_and_positional_encoding_layer\n",
        "class PositionalEmbedding(layers.Layer):\n",
        "  # num_words = number of words to consider in tweet.\n",
        "    # Each word index is \"pos\"\n",
        "    # Each value \"i\" is the index of the embeddings which have dimension d_model.\n",
        "  def __init__(self, num_words, d_model=embed_dim):\n",
        "    super(PositionalEmbedding, self).__init__()\n",
        "    self.pos_encodings = self.calculate_pos_encodings(num_words, d_model)\n",
        "\n",
        "  def calculate_pos_encodings(self, num_words, d_model):\n",
        "    depth = d_model / 2\n",
        "    positions = np.arange(num_words)[:, np.newaxis]\n",
        "    depths = np.arange(depth)[np.newaxis, :] / depth\n",
        "\n",
        "    angle_rates = 1 / (10000**depths)\n",
        "    angle_rads = positions * angle_rates\n",
        "\n",
        "    pos_encoding = np.concatenate(\n",
        "        [np.sin(angle_rads), np.cos(angle_rads)],\n",
        "        axis=-1)\n",
        "    \n",
        "    return tf.cast(pos_encoding, dtype=tf.float32)\n",
        "\n",
        "  def call(self, length):\n",
        "    return self.pos_encodings[tf.newaxis, :length, :]"
      ],
      "metadata": {
        "id": "cmNxz79cGOLm"
      },
      "execution_count": 87,
      "outputs": []
    },
    {
      "cell_type": "code",
      "source": [
        "class EmbeddingLayer(layers.Layer):\n",
        "  # num_words = words to consider in tweet\n",
        "  # d_model = embedding dimension for each token\n",
        "  # vocab_size = Number of unique tokens\n",
        "  def __init__(self, num_words, vocab_size, d_model=embed_dim):\n",
        "    super(EmbeddingLayer, self).__init__()\n",
        "    self.token_emb = layers.Embedding(input_dim=vocab_size, output_dim=d_model)\n",
        "    #self.pos_emb = layers.Embedding(input_dim=max_len, output_dim=d_model)\n",
        "    self.pos_emb = PositionalEmbedding(num_words=num_words, d_model=d_model)\n",
        "    self.num_words = num_words\n",
        "\n",
        "  def call(self, x):\n",
        "    num_words = tf.shape(x)[-1]\n",
        "    #positions = tf.range(start=0, limit=num_words, delta=1)\n",
        "    #positional_embeddings = self.pos_emb(positions)\n",
        "    positional_embeddings = self.pos_emb(num_words)\n",
        "    x = self.token_emb(x)\n",
        "    return x + positional_embeddings"
      ],
      "metadata": {
        "id": "Y94ctx87GOH6"
      },
      "execution_count": 88,
      "outputs": []
    },
    {
      "cell_type": "markdown",
      "source": [
        "Encoder block"
      ],
      "metadata": {
        "id": "_VOzL-ekHTPV"
      }
    },
    {
      "cell_type": "code",
      "execution_count": 89,
      "metadata": {
        "id": "zl9z94bbPk2y"
      },
      "outputs": [],
      "source": [
        "class FeedForward(layers.Layer):\n",
        "  def __init__(self, d_model=embed_dim, d_ff=d_ff):\n",
        "    super(FeedForward, self).__init__()\n",
        "    self.seq = keras.Sequential([\n",
        "        layers.Dense(d_ff, activation='relu'),\n",
        "        layers.Dense(d_model)\n",
        "    ])\n",
        "\n",
        "  def call(self, x):\n",
        "    return self.seq(x)"
      ]
    },
    {
      "cell_type": "code",
      "execution_count": 90,
      "metadata": {
        "id": "X7K6y-VxPk0q"
      },
      "outputs": [],
      "source": [
        "class EncoderLayer(layers.Layer):\n",
        "  def __init__(self, num_heads, d_model=embed_dim, d_ff=d_ff, dropout_rate=0.1):\n",
        "    super(EncoderLayer, self).__init__()\n",
        "    self.attn = layers.MultiHeadAttention(num_heads=num_heads, key_dim=d_model)\n",
        "    self.ffn = FeedForward(d_model, d_ff)\n",
        "    self.dropout1 = layers.Dropout(dropout_rate)\n",
        "    self.dropout2 = layers.Dropout(dropout_rate)\n",
        "    self.layernorm1 = layers.LayerNormalization()\n",
        "    self.layernorm2 = layers.LayerNormalization()\n",
        "\n",
        "  def call(self, x, training):\n",
        "    attn_output = self.attn(x, x)                               # Multi-Head Attention\n",
        "    attn_output = self.dropout1(attn_output, training=training) # Dropout\n",
        "    layer1_output = self.layernorm1(x + attn_output)            # Add & Norm\n",
        "\n",
        "    ffn_output = self.ffn(layer1_output)                        # Feed Forward\n",
        "    ffn_output = self.dropout2(ffn_output, training=training)   # Dropout\n",
        "    output = self.layernorm2(layer1_output + ffn_output)        # Add & Norm\n",
        "\n",
        "    return output"
      ]
    },
    {
      "cell_type": "code",
      "execution_count": 91,
      "metadata": {
        "id": "H2FPjqIXSGyD"
      },
      "outputs": [],
      "source": [
        "class Encoder(layers.Layer):\n",
        "  def __init__(self, num_words, n_layers, d_model, num_heads, d_ff, vocab_size,\n",
        "               dropout_rate=0.1):\n",
        "    super(Encoder, self).__init__()\n",
        "    self.num_words = num_words\n",
        "    self.d_model = d_model\n",
        "    self.n_layers = n_layers\n",
        "    self.embedding = EmbeddingLayer(num_words=num_words, d_model=d_model, \n",
        "                                    vocab_size=vocab_size)\n",
        "    self.layers = [\n",
        "        EncoderLayer(d_model=d_model, d_ff=d_ff, num_heads=num_heads, \n",
        "                     dropout_rate=dropout_rate)\n",
        "        for _ in range(n_layers)]\n",
        "    self.dropout = layers.Dropout(dropout_rate)\n",
        "\n",
        "  def call(self, x):\n",
        "    # Embedding\n",
        "    x = self.embedding(x)\n",
        "    x = self.dropout(x)\n",
        "\n",
        "    # N x Encoder layers\n",
        "    for i in range(len(self.layers)):\n",
        "      x = self.layers[i](x)\n",
        "\n",
        "    return x"
      ]
    },
    {
      "cell_type": "code",
      "source": [
        "encoder_model = keras.Sequential()\n",
        "\n",
        "encoder_model.add(keras.Input(shape=(max_len,)))\n",
        "encoder_model.add(EmbeddingLayer(num_words=max_len, vocab_size=vocab_size, \n",
        "                          d_model=embed_dim))\n",
        "\n",
        "encoder_model.add(EncoderLayer(d_model=embed_dim, d_ff=d_ff, num_heads=num_heads, \n",
        "                        dropout_rate=dropout_rate))\n",
        "\n",
        "encoder_model.add(layers.GlobalAveragePooling1D())\n",
        "\n",
        "encoder_model.add(layers.Dense(256, activation='relu', name='dense-256'))\n",
        "encoder_model.add(layers.Dropout(dropout_rate, name='Dropout-1'))\n",
        "encoder_model.add(layers.Dense(32, activation='relu', name='dense-32'))\n",
        "encoder_model.add(layers.Dropout(dropout_rate, name='Dropout-2'))\n",
        "encoder_model.add(layers.Dense(1, activation='sigmoid', name='classifier'))"
      ],
      "metadata": {
        "id": "TdpJNqLGxMaw"
      },
      "execution_count": 93,
      "outputs": []
    },
    {
      "cell_type": "code",
      "source": [
        "encoder_model.summary()"
      ],
      "metadata": {
        "colab": {
          "base_uri": "https://localhost:8080/"
        },
        "id": "xa-4b8NZHg0p",
        "outputId": "6805bf58-bffe-4917-f42b-0c32ab23751e"
      },
      "execution_count": 95,
      "outputs": [
        {
          "output_type": "stream",
          "name": "stdout",
          "text": [
            "Model: \"sequential_2\"\n",
            "_________________________________________________________________\n",
            " Layer (type)                Output Shape              Param #   \n",
            "=================================================================\n",
            " embedding_layer_1 (Embeddin  (None, 40, 32)           4212352   \n",
            " gLayer)                                                         \n",
            "                                                                 \n",
            " encoder_layer_1 (EncoderLay  (None, 40, 32)           166848    \n",
            " er)                                                             \n",
            "                                                                 \n",
            " global_average_pooling1d_1   (None, 32)               0         \n",
            " (GlobalAveragePooling1D)                                        \n",
            "                                                                 \n",
            " dense-256 (Dense)           (None, 256)               8448      \n",
            "                                                                 \n",
            " Dropout-1 (Dropout)         (None, 256)               0         \n",
            "                                                                 \n",
            " dense-32 (Dense)            (None, 32)                8224      \n",
            "                                                                 \n",
            " Dropout-2 (Dropout)         (None, 32)                0         \n",
            "                                                                 \n",
            " classifier (Dense)          (None, 1)                 33        \n",
            "                                                                 \n",
            "=================================================================\n",
            "Total params: 4,395,905\n",
            "Trainable params: 4,395,905\n",
            "Non-trainable params: 0\n",
            "_________________________________________________________________\n"
          ]
        }
      ]
    },
    {
      "cell_type": "markdown",
      "source": [
        "Train"
      ],
      "metadata": {
        "id": "HI8_HMITHc3D"
      }
    },
    {
      "cell_type": "code",
      "source": [
        "BATCH_SIZE = 16\n",
        "EPOCHS = 10"
      ],
      "metadata": {
        "id": "hQFhZar0HRdr"
      },
      "execution_count": 94,
      "outputs": []
    },
    {
      "cell_type": "code",
      "source": [
        "encoder_model.compile(optimizer=\"adam\",\n",
        "                      loss=\"binary_crossentropy\",\n",
        "                      metrics=[\"accuracy\"])"
      ],
      "metadata": {
        "id": "CGHTBvXfHfB9"
      },
      "execution_count": 96,
      "outputs": []
    },
    {
      "cell_type": "code",
      "source": [
        "history = encoder_model.fit(X_train, y_train, batch_size=BATCH_SIZE, epochs=EPOCHS, \n",
        "                            validation_data=(X_val, y_val))"
      ],
      "metadata": {
        "colab": {
          "base_uri": "https://localhost:8080/"
        },
        "id": "tvPA22eDHexC",
        "outputId": "a04ee652-1e19-431f-da01-cecc122903e9"
      },
      "execution_count": 98,
      "outputs": [
        {
          "output_type": "stream",
          "name": "stdout",
          "text": [
            "Epoch 1/10\n",
            "16000/16000 [==============================] - 187s 11ms/step - loss: 0.4822 - accuracy: 0.7604 - val_loss: 0.4400 - val_accuracy: 0.7962\n",
            "Epoch 2/10\n",
            "16000/16000 [==============================] - 155s 10ms/step - loss: 0.4023 - accuracy: 0.8184 - val_loss: 0.4482 - val_accuracy: 0.7951\n",
            "Epoch 3/10\n",
            "16000/16000 [==============================] - 138s 9ms/step - loss: 0.3623 - accuracy: 0.8399 - val_loss: 0.4432 - val_accuracy: 0.7950\n",
            "Epoch 4/10\n",
            "16000/16000 [==============================] - 124s 8ms/step - loss: 0.3263 - accuracy: 0.8604 - val_loss: 0.4572 - val_accuracy: 0.7896\n",
            "Epoch 5/10\n",
            "16000/16000 [==============================] - 122s 8ms/step - loss: 0.2935 - accuracy: 0.8783 - val_loss: 0.5162 - val_accuracy: 0.7785\n",
            "Epoch 6/10\n",
            "16000/16000 [==============================] - 119s 7ms/step - loss: 0.2625 - accuracy: 0.8925 - val_loss: 0.5705 - val_accuracy: 0.7734\n",
            "Epoch 7/10\n",
            "16000/16000 [==============================] - 122s 8ms/step - loss: 0.2384 - accuracy: 0.9020 - val_loss: 0.5334 - val_accuracy: 0.7686\n",
            "Epoch 8/10\n",
            "16000/16000 [==============================] - 122s 8ms/step - loss: 0.2195 - accuracy: 0.9098 - val_loss: 0.5813 - val_accuracy: 0.7690\n",
            "Epoch 9/10\n",
            "16000/16000 [==============================] - 123s 8ms/step - loss: 0.2026 - accuracy: 0.9167 - val_loss: 0.6322 - val_accuracy: 0.7570\n",
            "Epoch 10/10\n",
            "16000/16000 [==============================] - 120s 8ms/step - loss: 0.1890 - accuracy: 0.9218 - val_loss: 0.7819 - val_accuracy: 0.7560\n"
          ]
        }
      ]
    },
    {
      "cell_type": "markdown",
      "source": [
        "Evaluate"
      ],
      "metadata": {
        "id": "KbidLtSZHqK0"
      }
    },
    {
      "cell_type": "code",
      "source": [
        "plt.figure(figsize=(10, 8))\n",
        "\n",
        "plt.plot(history.history['accuracy'])\n",
        "plt.plot(history.history['val_accuracy'])\n",
        "plt.legend(['train', 'test'], loc='right')\n",
        "\n",
        "plt.show()"
      ],
      "metadata": {
        "colab": {
          "base_uri": "https://localhost:8080/",
          "height": 676
        },
        "id": "KNU_Ka9HHRWg",
        "outputId": "58dbc0fb-3529-4c94-962a-f96bab9c52f4"
      },
      "execution_count": 99,
      "outputs": [
        {
          "output_type": "display_data",
          "data": {
            "text/plain": [
              "<Figure size 1000x800 with 1 Axes>"
            ],
            "image/png": "[encoded data removed]"
          },
          "metadata": {}
        }
      ]
    },
    {
      "cell_type": "code",
      "source": [
        "loss, accuracy = encoder_model.evaluate(X_val, y_val)"
      ],
      "metadata": {
        "colab": {
          "base_uri": "https://localhost:8080/"
        },
        "id": "aWUxrrsqHyJu",
        "outputId": "91d7c56e-ff55-49df-927b-caab5576b62a"
      },
      "execution_count": 100,
      "outputs": [
        {
          "output_type": "stream",
          "name": "stdout",
          "text": [
            "2000/2000 [==============================] - 10s 5ms/step - loss: 0.7819 - accuracy: 0.7560\n"
          ]
        }
      ]
    },
    {
      "cell_type": "code",
      "source": [
        "print(loss, accuracy)"
      ],
      "metadata": {
        "colab": {
          "base_uri": "https://localhost:8080/"
        },
        "id": "oNt0kAe1HyAW",
        "outputId": "8766318f-8d5e-47b6-ee05-b5c7a0f26690"
      },
      "execution_count": 101,
      "outputs": [
        {
          "output_type": "stream",
          "name": "stdout",
          "text": [
            "0.7819225192070007 0.7560312747955322\n"
          ]
        }
      ]
    },
    {
      "cell_type": "code",
      "source": [
        "y_pred = encoder_model.predict(X_val)"
      ],
      "metadata": {
        "colab": {
          "base_uri": "https://localhost:8080/"
        },
        "id": "d4Ii0X-VHx10",
        "outputId": "3fe7d0d1-9b0e-4f9c-8465-60b1dec1c93d"
      },
      "execution_count": 102,
      "outputs": [
        {
          "output_type": "stream",
          "name": "stdout",
          "text": [
            "2000/2000 [==============================] - 7s 4ms/step\n"
          ]
        }
      ]
    },
    {
      "cell_type": "code",
      "source": [
        "y_pred.shape"
      ],
      "metadata": {
        "colab": {
          "base_uri": "https://localhost:8080/"
        },
        "id": "idKxx2-zH04G",
        "outputId": "f42563f7-ff08-46b0-ec11-2331d12fcf1a"
      },
      "execution_count": 103,
      "outputs": [
        {
          "output_type": "execute_result",
          "data": {
            "text/plain": [
              "(64000, 1)"
            ]
          },
          "metadata": {},
          "execution_count": 103
        }
      ]
    },
    {
      "cell_type": "markdown",
      "source": [
        "Convert the probabilities to the predicted labels"
      ],
      "metadata": {
        "id": "gLwRyBpfH3o8"
      }
    },
    {
      "cell_type": "code",
      "source": [
        "y_pred = (y_pred >= 0.5).astype(int)"
      ],
      "metadata": {
        "id": "e9j0vaxJH0vN"
      },
      "execution_count": 104,
      "outputs": []
    },
    {
      "cell_type": "code",
      "source": [
        "y_pred.sum()"
      ],
      "metadata": {
        "colab": {
          "base_uri": "https://localhost:8080/"
        },
        "id": "T8OeslFQH0mh",
        "outputId": "d85dce00-e3fa-4a12-c80f-cdd6cb380015"
      },
      "execution_count": 105,
      "outputs": [
        {
          "output_type": "execute_result",
          "data": {
            "text/plain": [
              "29484"
            ]
          },
          "metadata": {},
          "execution_count": 105
        }
      ]
    },
    {
      "cell_type": "code",
      "source": [
        "print(classification_report(y_val, y_pred))"
      ],
      "metadata": {
        "colab": {
          "base_uri": "https://localhost:8080/"
        },
        "id": "HS1V7PtxH9VK",
        "outputId": "5d2227c2-c154-41b4-e14a-f9e119c760d9"
      },
      "execution_count": 106,
      "outputs": [
        {
          "output_type": "stream",
          "name": "stdout",
          "text": [
            "              precision    recall  f1-score   support\n",
            "\n",
            "           0       0.74      0.79      0.77     32066\n",
            "           1       0.78      0.72      0.75     31934\n",
            "\n",
            "    accuracy                           0.76     64000\n",
            "   macro avg       0.76      0.76      0.76     64000\n",
            "weighted avg       0.76      0.76      0.76     64000\n",
            "\n"
          ]
        }
      ]
    },
    {
      "cell_type": "code",
      "source": [
        "fpr, tpr, thresholds = roc_curve(y_val, y_pred)\n",
        "roc_auc = auc(fpr, tpr)\n",
        "print(roc_auc)"
      ],
      "metadata": {
        "colab": {
          "base_uri": "https://localhost:8080/"
        },
        "id": "drQ9WAjBH9DR",
        "outputId": "1af59719-2c43-477c-bbb6-225dfc33dfe2"
      },
      "execution_count": 107,
      "outputs": [
        {
          "output_type": "stream",
          "name": "stdout",
          "text": [
            "0.7559512567614008\n"
          ]
        }
      ]
    },
    {
      "cell_type": "code",
      "source": [
        "accuracy_score(y_val, y_pred)"
      ],
      "metadata": {
        "colab": {
          "base_uri": "https://localhost:8080/"
        },
        "id": "PUb-UizSH86N",
        "outputId": "b28f9de6-2e79-4017-998d-15566cad9ef1"
      },
      "execution_count": 108,
      "outputs": [
        {
          "output_type": "execute_result",
          "data": {
            "text/plain": [
              "0.75603125"
            ]
          },
          "metadata": {},
          "execution_count": 108
        }
      ]
    },
    {
      "cell_type": "markdown",
      "source": [
        "### BERT pre-trained model"
      ],
      "metadata": {
        "id": "83OhLvn3FiRu"
      }
    },
    {
      "cell_type": "markdown",
      "source": [
        "The BERT pretrained model provides a custom preprocessor which will tokenize and prepare the data, so we want to preserve the original tweet text as strings in the data."
      ],
      "metadata": {
        "id": "mzRKZhD3IGlK"
      }
    },
    {
      "cell_type": "code",
      "source": [
        "X_train, X_val, y_train, y_val = train_test_split(X_clean, y_clean, test_size=0.2, random_state=42)"
      ],
      "metadata": {
        "id": "Y6W3AknyFk_D"
      },
      "execution_count": 109,
      "outputs": []
    },
    {
      "cell_type": "code",
      "source": [
        "for i in range(20):\n",
        "  print(X_train[i], y_train.iloc[i])"
      ],
      "metadata": {
        "colab": {
          "base_uri": "https://localhost:8080/"
        },
        "id": "x83C40AyIzzD",
        "outputId": "73f5720a-7b7a-4199-daed-ee6f3a2faa95"
      },
      "execution_count": 110,
      "outputs": [
        {
          "output_type": "stream",
          "name": "stdout",
          "text": [
            "i miss talking to you 0\n",
            "i love the way you love but hate the way im supposed to love you back 0\n",
            "you r welcome here anytime 1\n",
            "wrong john wink tehe and im sry i cant make it 0\n",
            "when yall comin ova wink how are you i miss you guys 1\n",
            "got my little black dress on and im going out for lunch 1\n",
            "i mean people yeah got confuse too 0\n",
            "is in the crowd at cherry blossom festival in japtown oh food everywhere 1\n",
            "its a rainy day in rome 0\n",
            "our newest family member oscar norwegian forest cat 1\n",
            "online at school my classmate is a creepy fucking stalker i hate him 0\n",
            "those puppy millers will keep trainers in biz for a long time best of luck patience amp cheese with your boy 0\n",
            "ill get alot of sewing done today no tv the bulb burned out so waiting for a new one hopefully in a couple of days 0\n",
            "the betty finale was so touching poor daniel and mark wonder who was in wilheminas apartment though 0\n",
            "i love ur tattoo quotthe parent trapquot is my fave movie of all time 1\n",
            "c nh ch ang m 0\n",
            "bravo a man with a plan 1\n",
            "you are a hardcore coffee lover arent you do you like tea 1\n",
            "movin into the big room 1\n",
            "working at ebar all day upset cause i might miss the magic game tonight 0\n"
          ]
        }
      ]
    },
    {
      "cell_type": "markdown",
      "source": [
        "Select the specific BERT model. "
      ],
      "metadata": {
        "id": "IYAoiYVnI7GR"
      }
    },
    {
      "cell_type": "code",
      "source": [
        "# Thanks to https://www.tensorflow.org/text/tutorials/classify_text_with_bert\n",
        "bert_model_name = 'small_bert/bert_en_uncased_L-4_H-512_A-8'\n",
        "\n",
        "map_name_to_handle = {\n",
        "    'bert_en_uncased_L-12_H-768_A-12':\n",
        "        'https://tfhub.dev/tensorflow/bert_en_uncased_L-12_H-768_A-12/3',\n",
        "    'bert_en_cased_L-12_H-768_A-12':\n",
        "        'https://tfhub.dev/tensorflow/bert_en_cased_L-12_H-768_A-12/3',\n",
        "    'bert_multi_cased_L-12_H-768_A-12':\n",
        "        'https://tfhub.dev/tensorflow/bert_multi_cased_L-12_H-768_A-12/3',\n",
        "    'small_bert/bert_en_uncased_L-2_H-128_A-2':\n",
        "        'https://tfhub.dev/tensorflow/small_bert/bert_en_uncased_L-2_H-128_A-2/1',\n",
        "    'small_bert/bert_en_uncased_L-2_H-256_A-4':\n",
        "        'https://tfhub.dev/tensorflow/small_bert/bert_en_uncased_L-2_H-256_A-4/1',\n",
        "    'small_bert/bert_en_uncased_L-2_H-512_A-8':\n",
        "        'https://tfhub.dev/tensorflow/small_bert/bert_en_uncased_L-2_H-512_A-8/1',\n",
        "    'small_bert/bert_en_uncased_L-2_H-768_A-12':\n",
        "        'https://tfhub.dev/tensorflow/small_bert/bert_en_uncased_L-2_H-768_A-12/1',\n",
        "    'small_bert/bert_en_uncased_L-4_H-128_A-2':\n",
        "        'https://tfhub.dev/tensorflow/small_bert/bert_en_uncased_L-4_H-128_A-2/1',\n",
        "    'small_bert/bert_en_uncased_L-4_H-256_A-4':\n",
        "        'https://tfhub.dev/tensorflow/small_bert/bert_en_uncased_L-4_H-256_A-4/1',\n",
        "    'small_bert/bert_en_uncased_L-4_H-512_A-8':\n",
        "        'https://tfhub.dev/tensorflow/small_bert/bert_en_uncased_L-4_H-512_A-8/1',\n",
        "    'small_bert/bert_en_uncased_L-4_H-768_A-12':\n",
        "        'https://tfhub.dev/tensorflow/small_bert/bert_en_uncased_L-4_H-768_A-12/1',\n",
        "    'small_bert/bert_en_uncased_L-6_H-128_A-2':\n",
        "        'https://tfhub.dev/tensorflow/small_bert/bert_en_uncased_L-6_H-128_A-2/1',\n",
        "    'small_bert/bert_en_uncased_L-6_H-256_A-4':\n",
        "        'https://tfhub.dev/tensorflow/small_bert/bert_en_uncased_L-6_H-256_A-4/1',\n",
        "    'small_bert/bert_en_uncased_L-6_H-512_A-8':\n",
        "        'https://tfhub.dev/tensorflow/small_bert/bert_en_uncased_L-6_H-512_A-8/1',\n",
        "    'small_bert/bert_en_uncased_L-6_H-768_A-12':\n",
        "        'https://tfhub.dev/tensorflow/small_bert/bert_en_uncased_L-6_H-768_A-12/1',\n",
        "    'small_bert/bert_en_uncased_L-8_H-128_A-2':\n",
        "        'https://tfhub.dev/tensorflow/small_bert/bert_en_uncased_L-8_H-128_A-2/1',\n",
        "    'small_bert/bert_en_uncased_L-8_H-256_A-4':\n",
        "        'https://tfhub.dev/tensorflow/small_bert/bert_en_uncased_L-8_H-256_A-4/1',\n",
        "    'small_bert/bert_en_uncased_L-8_H-512_A-8':\n",
        "        'https://tfhub.dev/tensorflow/small_bert/bert_en_uncased_L-8_H-512_A-8/1',\n",
        "    'small_bert/bert_en_uncased_L-8_H-768_A-12':\n",
        "        'https://tfhub.dev/tensorflow/small_bert/bert_en_uncased_L-8_H-768_A-12/1',\n",
        "    'small_bert/bert_en_uncased_L-10_H-128_A-2':\n",
        "        'https://tfhub.dev/tensorflow/small_bert/bert_en_uncased_L-10_H-128_A-2/1',\n",
        "    'small_bert/bert_en_uncased_L-10_H-256_A-4':\n",
        "        'https://tfhub.dev/tensorflow/small_bert/bert_en_uncased_L-10_H-256_A-4/1',\n",
        "    'small_bert/bert_en_uncased_L-10_H-512_A-8':\n",
        "        'https://tfhub.dev/tensorflow/small_bert/bert_en_uncased_L-10_H-512_A-8/1',\n",
        "    'small_bert/bert_en_uncased_L-10_H-768_A-12':\n",
        "        'https://tfhub.dev/tensorflow/small_bert/bert_en_uncased_L-10_H-768_A-12/1',\n",
        "    'small_bert/bert_en_uncased_L-12_H-128_A-2':\n",
        "        'https://tfhub.dev/tensorflow/small_bert/bert_en_uncased_L-12_H-128_A-2/1',\n",
        "    'small_bert/bert_en_uncased_L-12_H-256_A-4':\n",
        "        'https://tfhub.dev/tensorflow/small_bert/bert_en_uncased_L-12_H-256_A-4/1',\n",
        "    'small_bert/bert_en_uncased_L-12_H-512_A-8':\n",
        "        'https://tfhub.dev/tensorflow/small_bert/bert_en_uncased_L-12_H-512_A-8/1',\n",
        "    'small_bert/bert_en_uncased_L-12_H-768_A-12':\n",
        "        'https://tfhub.dev/tensorflow/small_bert/bert_en_uncased_L-12_H-768_A-12/1',\n",
        "    'albert_en_base':\n",
        "        'https://tfhub.dev/tensorflow/albert_en_base/2',\n",
        "    'electra_small':\n",
        "        'https://tfhub.dev/google/electra_small/2',\n",
        "    'electra_base':\n",
        "        'https://tfhub.dev/google/electra_base/2',\n",
        "    'experts_pubmed':\n",
        "        'https://tfhub.dev/google/experts/bert/pubmed/2',\n",
        "    'experts_wiki_books':\n",
        "        'https://tfhub.dev/google/experts/bert/wiki_books/2',\n",
        "    'talking-heads_base':\n",
        "        'https://tfhub.dev/tensorflow/talkheads_ggelu_bert_en_base/1',\n",
        "}\n",
        "\n",
        "map_model_to_preprocess = {\n",
        "    'bert_en_uncased_L-12_H-768_A-12':\n",
        "        'https://tfhub.dev/tensorflow/bert_en_uncased_preprocess/3',\n",
        "    'bert_en_cased_L-12_H-768_A-12':\n",
        "        'https://tfhub.dev/tensorflow/bert_en_cased_preprocess/3',\n",
        "    'small_bert/bert_en_uncased_L-2_H-128_A-2':\n",
        "        'https://tfhub.dev/tensorflow/bert_en_uncased_preprocess/3',\n",
        "    'small_bert/bert_en_uncased_L-2_H-256_A-4':\n",
        "        'https://tfhub.dev/tensorflow/bert_en_uncased_preprocess/3',\n",
        "    'small_bert/bert_en_uncased_L-2_H-512_A-8':\n",
        "        'https://tfhub.dev/tensorflow/bert_en_uncased_preprocess/3',\n",
        "    'small_bert/bert_en_uncased_L-2_H-768_A-12':\n",
        "        'https://tfhub.dev/tensorflow/bert_en_uncased_preprocess/3',\n",
        "    'small_bert/bert_en_uncased_L-4_H-128_A-2':\n",
        "        'https://tfhub.dev/tensorflow/bert_en_uncased_preprocess/3',\n",
        "    'small_bert/bert_en_uncased_L-4_H-256_A-4':\n",
        "        'https://tfhub.dev/tensorflow/bert_en_uncased_preprocess/3',\n",
        "    'small_bert/bert_en_uncased_L-4_H-512_A-8':\n",
        "        'https://tfhub.dev/tensorflow/bert_en_uncased_preprocess/3',\n",
        "    'small_bert/bert_en_uncased_L-4_H-768_A-12':\n",
        "        'https://tfhub.dev/tensorflow/bert_en_uncased_preprocess/3',\n",
        "    'small_bert/bert_en_uncased_L-6_H-128_A-2':\n",
        "        'https://tfhub.dev/tensorflow/bert_en_uncased_preprocess/3',\n",
        "    'small_bert/bert_en_uncased_L-6_H-256_A-4':\n",
        "        'https://tfhub.dev/tensorflow/bert_en_uncased_preprocess/3',\n",
        "    'small_bert/bert_en_uncased_L-6_H-512_A-8':\n",
        "        'https://tfhub.dev/tensorflow/bert_en_uncased_preprocess/3',\n",
        "    'small_bert/bert_en_uncased_L-6_H-768_A-12':\n",
        "        'https://tfhub.dev/tensorflow/bert_en_uncased_preprocess/3',\n",
        "    'small_bert/bert_en_uncased_L-8_H-128_A-2':\n",
        "        'https://tfhub.dev/tensorflow/bert_en_uncased_preprocess/3',\n",
        "    'small_bert/bert_en_uncased_L-8_H-256_A-4':\n",
        "        'https://tfhub.dev/tensorflow/bert_en_uncased_preprocess/3',\n",
        "    'small_bert/bert_en_uncased_L-8_H-512_A-8':\n",
        "        'https://tfhub.dev/tensorflow/bert_en_uncased_preprocess/3',\n",
        "    'small_bert/bert_en_uncased_L-8_H-768_A-12':\n",
        "        'https://tfhub.dev/tensorflow/bert_en_uncased_preprocess/3',\n",
        "    'small_bert/bert_en_uncased_L-10_H-128_A-2':\n",
        "        'https://tfhub.dev/tensorflow/bert_en_uncased_preprocess/3',\n",
        "    'small_bert/bert_en_uncased_L-10_H-256_A-4':\n",
        "        'https://tfhub.dev/tensorflow/bert_en_uncased_preprocess/3',\n",
        "    'small_bert/bert_en_uncased_L-10_H-512_A-8':\n",
        "        'https://tfhub.dev/tensorflow/bert_en_uncased_preprocess/3',\n",
        "    'small_bert/bert_en_uncased_L-10_H-768_A-12':\n",
        "        'https://tfhub.dev/tensorflow/bert_en_uncased_preprocess/3',\n",
        "    'small_bert/bert_en_uncased_L-12_H-128_A-2':\n",
        "        'https://tfhub.dev/tensorflow/bert_en_uncased_preprocess/3',\n",
        "    'small_bert/bert_en_uncased_L-12_H-256_A-4':\n",
        "        'https://tfhub.dev/tensorflow/bert_en_uncased_preprocess/3',\n",
        "    'small_bert/bert_en_uncased_L-12_H-512_A-8':\n",
        "        'https://tfhub.dev/tensorflow/bert_en_uncased_preprocess/3',\n",
        "    'small_bert/bert_en_uncased_L-12_H-768_A-12':\n",
        "        'https://tfhub.dev/tensorflow/bert_en_uncased_preprocess/3',\n",
        "    'bert_multi_cased_L-12_H-768_A-12':\n",
        "        'https://tfhub.dev/tensorflow/bert_multi_cased_preprocess/3',\n",
        "    'albert_en_base':\n",
        "        'https://tfhub.dev/tensorflow/albert_en_preprocess/3',\n",
        "    'electra_small':\n",
        "        'https://tfhub.dev/tensorflow/bert_en_uncased_preprocess/3',\n",
        "    'electra_base':\n",
        "        'https://tfhub.dev/tensorflow/bert_en_uncased_preprocess/3',\n",
        "    'experts_pubmed':\n",
        "        'https://tfhub.dev/tensorflow/bert_en_uncased_preprocess/3',\n",
        "    'experts_wiki_books':\n",
        "        'https://tfhub.dev/tensorflow/bert_en_uncased_preprocess/3',\n",
        "    'talking-heads_base':\n",
        "        'https://tfhub.dev/tensorflow/bert_en_uncased_preprocess/3',\n",
        "}\n",
        "\n",
        "tfhub_handle_encoder = map_name_to_handle[bert_model_name]\n",
        "tfhub_handle_preprocess = map_model_to_preprocess[bert_model_name]\n",
        "\n",
        "print(f'BERT model selected           : {tfhub_handle_encoder}')\n",
        "print(f'Preprocess model auto-selected: {tfhub_handle_preprocess}')"
      ],
      "metadata": {
        "colab": {
          "base_uri": "https://localhost:8080/"
        },
        "id": "zNX1j9gQI4hZ",
        "outputId": "e1e071bc-de3f-4021-c980-77cc21732525"
      },
      "execution_count": 111,
      "outputs": [
        {
          "output_type": "stream",
          "name": "stdout",
          "text": [
            "BERT model selected           : https://tfhub.dev/tensorflow/small_bert/bert_en_uncased_L-4_H-512_A-8/1\n",
            "Preprocess model auto-selected: https://tfhub.dev/tensorflow/bert_en_uncased_preprocess/3\n"
          ]
        }
      ]
    },
    {
      "cell_type": "markdown",
      "source": [
        "Tensorflow-text version must match the tensorflow version"
      ],
      "metadata": {
        "id": "zgjQEvnsJNbe"
      }
    },
    {
      "cell_type": "code",
      "source": [
        "tf.__version__"
      ],
      "metadata": {
        "colab": {
          "base_uri": "https://localhost:8080/",
          "height": 35
        },
        "id": "y_0AJrxCI4Vh",
        "outputId": "73deac1a-3386-4315-af27-7aaea214ccdc"
      },
      "execution_count": 112,
      "outputs": [
        {
          "output_type": "execute_result",
          "data": {
            "text/plain": [
              "'2.12.0'"
            ],
            "application/vnd.google.colaboratory.intrinsic+json": {
              "type": "string"
            }
          },
          "metadata": {},
          "execution_count": 112
        }
      ]
    },
    {
      "cell_type": "code",
      "source": [
        "# Dependency of the preprocssing for BERT inputs\n",
        "!pip install \"tensorflow-text==2.12.*\""
      ],
      "metadata": {
        "colab": {
          "base_uri": "https://localhost:8080/"
        },
        "id": "PcrhLj9HI4JE",
        "outputId": "05dff67c-7005-4ee2-c509-9db9a3d356cf"
      },
      "execution_count": 113,
      "outputs": [
        {
          "output_type": "stream",
          "name": "stdout",
          "text": [
            "Looking in indexes: https://pypi.org/simple, https://us-python.pkg.dev/colab-wheels/public/simple/\n",
            "Collecting tensorflow-text==2.12.*\n",
            "  Downloading tensorflow_text-2.12.1-cp310-cp310-manylinux_2_17_x86_64.manylinux2014_x86_64.whl (6.0 MB)\n",
            "\u001b[2K     \u001b[90m━━━━━━━━━━━━━━━━━━━━━━━━━━━━━━━━━━━━━━━━\u001b[0m \u001b[32m6.0/6.0 MB\u001b[0m \u001b[31m35.1 MB/s\u001b[0m eta \u001b[36m0:00:00\u001b[0m\n",
            "\u001b[?25hRequirement already satisfied: tensorflow-hub>=0.8.0 in /usr/local/lib/python3.10/dist-packages (from tensorflow-text==2.12.*) (0.13.0)\n",
            "Requirement already satisfied: tensorflow<2.13,>=2.12.0 in /usr/local/lib/python3.10/dist-packages (from tensorflow-text==2.12.*) (2.12.0)\n",
            "Requirement already satisfied: absl-py>=1.0.0 in /usr/local/lib/python3.10/dist-packages (from tensorflow<2.13,>=2.12.0->tensorflow-text==2.12.*) (1.4.0)\n",
            "Requirement already satisfied: astunparse>=1.6.0 in /usr/local/lib/python3.10/dist-packages (from tensorflow<2.13,>=2.12.0->tensorflow-text==2.12.*) (1.6.3)\n",
            "Requirement already satisfied: flatbuffers>=2.0 in /usr/local/lib/python3.10/dist-packages (from tensorflow<2.13,>=2.12.0->tensorflow-text==2.12.*) (23.3.3)\n",
            "Requirement already satisfied: gast<=0.4.0,>=0.2.1 in /usr/local/lib/python3.10/dist-packages (from tensorflow<2.13,>=2.12.0->tensorflow-text==2.12.*) (0.4.0)\n",
            "Requirement already satisfied: google-pasta>=0.1.1 in /usr/local/lib/python3.10/dist-packages (from tensorflow<2.13,>=2.12.0->tensorflow-text==2.12.*) (0.2.0)\n",
            "Requirement already satisfied: grpcio<2.0,>=1.24.3 in /usr/local/lib/python3.10/dist-packages (from tensorflow<2.13,>=2.12.0->tensorflow-text==2.12.*) (1.54.0)\n",
            "Requirement already satisfied: h5py>=2.9.0 in /usr/local/lib/python3.10/dist-packages (from tensorflow<2.13,>=2.12.0->tensorflow-text==2.12.*) (3.8.0)\n",
            "Requirement already satisfied: jax>=0.3.15 in /usr/local/lib/python3.10/dist-packages (from tensorflow<2.13,>=2.12.0->tensorflow-text==2.12.*) (0.4.8)\n",
            "Requirement already satisfied: keras<2.13,>=2.12.0 in /usr/local/lib/python3.10/dist-packages (from tensorflow<2.13,>=2.12.0->tensorflow-text==2.12.*) (2.12.0)\n",
            "Requirement already satisfied: libclang>=13.0.0 in /usr/local/lib/python3.10/dist-packages (from tensorflow<2.13,>=2.12.0->tensorflow-text==2.12.*) (16.0.0)\n",
            "Requirement already satisfied: numpy<1.24,>=1.22 in /usr/local/lib/python3.10/dist-packages (from tensorflow<2.13,>=2.12.0->tensorflow-text==2.12.*) (1.22.4)\n",
            "Requirement already satisfied: opt-einsum>=2.3.2 in /usr/local/lib/python3.10/dist-packages (from tensorflow<2.13,>=2.12.0->tensorflow-text==2.12.*) (3.3.0)\n",
            "Requirement already satisfied: packaging in /usr/local/lib/python3.10/dist-packages (from tensorflow<2.13,>=2.12.0->tensorflow-text==2.12.*) (23.1)\n",
            "Requirement already satisfied: protobuf!=4.21.0,!=4.21.1,!=4.21.2,!=4.21.3,!=4.21.4,!=4.21.5,<5.0.0dev,>=3.20.3 in /usr/local/lib/python3.10/dist-packages (from tensorflow<2.13,>=2.12.0->tensorflow-text==2.12.*) (3.20.3)\n",
            "Requirement already satisfied: setuptools in /usr/local/lib/python3.10/dist-packages (from tensorflow<2.13,>=2.12.0->tensorflow-text==2.12.*) (67.7.2)\n",
            "Requirement already satisfied: six>=1.12.0 in /usr/local/lib/python3.10/dist-packages (from tensorflow<2.13,>=2.12.0->tensorflow-text==2.12.*) (1.16.0)\n",
            "Requirement already satisfied: tensorboard<2.13,>=2.12 in /usr/local/lib/python3.10/dist-packages (from tensorflow<2.13,>=2.12.0->tensorflow-text==2.12.*) (2.12.2)\n",
            "Requirement already satisfied: tensorflow-estimator<2.13,>=2.12.0 in /usr/local/lib/python3.10/dist-packages (from tensorflow<2.13,>=2.12.0->tensorflow-text==2.12.*) (2.12.0)\n",
            "Requirement already satisfied: termcolor>=1.1.0 in /usr/local/lib/python3.10/dist-packages (from tensorflow<2.13,>=2.12.0->tensorflow-text==2.12.*) (2.3.0)\n",
            "Requirement already satisfied: typing-extensions>=3.6.6 in /usr/local/lib/python3.10/dist-packages (from tensorflow<2.13,>=2.12.0->tensorflow-text==2.12.*) (4.5.0)\n",
            "Requirement already satisfied: wrapt<1.15,>=1.11.0 in /usr/local/lib/python3.10/dist-packages (from tensorflow<2.13,>=2.12.0->tensorflow-text==2.12.*) (1.14.1)\n",
            "Requirement already satisfied: tensorflow-io-gcs-filesystem>=0.23.1 in /usr/local/lib/python3.10/dist-packages (from tensorflow<2.13,>=2.12.0->tensorflow-text==2.12.*) (0.32.0)\n",
            "Requirement already satisfied: wheel<1.0,>=0.23.0 in /usr/local/lib/python3.10/dist-packages (from astunparse>=1.6.0->tensorflow<2.13,>=2.12.0->tensorflow-text==2.12.*) (0.40.0)\n",
            "Requirement already satisfied: ml-dtypes>=0.0.3 in /usr/local/lib/python3.10/dist-packages (from jax>=0.3.15->tensorflow<2.13,>=2.12.0->tensorflow-text==2.12.*) (0.1.0)\n",
            "Requirement already satisfied: scipy>=1.7 in /usr/local/lib/python3.10/dist-packages (from jax>=0.3.15->tensorflow<2.13,>=2.12.0->tensorflow-text==2.12.*) (1.10.1)\n",
            "Requirement already satisfied: google-auth<3,>=1.6.3 in /usr/local/lib/python3.10/dist-packages (from tensorboard<2.13,>=2.12->tensorflow<2.13,>=2.12.0->tensorflow-text==2.12.*) (2.17.3)\n",
            "Requirement already satisfied: google-auth-oauthlib<1.1,>=0.5 in /usr/local/lib/python3.10/dist-packages (from tensorboard<2.13,>=2.12->tensorflow<2.13,>=2.12.0->tensorflow-text==2.12.*) (1.0.0)\n",
            "Requirement already satisfied: markdown>=2.6.8 in /usr/local/lib/python3.10/dist-packages (from tensorboard<2.13,>=2.12->tensorflow<2.13,>=2.12.0->tensorflow-text==2.12.*) (3.4.3)\n",
            "Requirement already satisfied: requests<3,>=2.21.0 in /usr/local/lib/python3.10/dist-packages (from tensorboard<2.13,>=2.12->tensorflow<2.13,>=2.12.0->tensorflow-text==2.12.*) (2.27.1)\n",
            "Requirement already satisfied: tensorboard-data-server<0.8.0,>=0.7.0 in /usr/local/lib/python3.10/dist-packages (from tensorboard<2.13,>=2.12->tensorflow<2.13,>=2.12.0->tensorflow-text==2.12.*) (0.7.0)\n",
            "Requirement already satisfied: tensorboard-plugin-wit>=1.6.0 in /usr/local/lib/python3.10/dist-packages (from tensorboard<2.13,>=2.12->tensorflow<2.13,>=2.12.0->tensorflow-text==2.12.*) (1.8.1)\n",
            "Requirement already satisfied: werkzeug>=1.0.1 in /usr/local/lib/python3.10/dist-packages (from tensorboard<2.13,>=2.12->tensorflow<2.13,>=2.12.0->tensorflow-text==2.12.*) (2.3.0)\n",
            "Requirement already satisfied: cachetools<6.0,>=2.0.0 in /usr/local/lib/python3.10/dist-packages (from google-auth<3,>=1.6.3->tensorboard<2.13,>=2.12->tensorflow<2.13,>=2.12.0->tensorflow-text==2.12.*) (5.3.0)\n",
            "Requirement already satisfied: pyasn1-modules>=0.2.1 in /usr/local/lib/python3.10/dist-packages (from google-auth<3,>=1.6.3->tensorboard<2.13,>=2.12->tensorflow<2.13,>=2.12.0->tensorflow-text==2.12.*) (0.3.0)\n",
            "Requirement already satisfied: rsa<5,>=3.1.4 in /usr/local/lib/python3.10/dist-packages (from google-auth<3,>=1.6.3->tensorboard<2.13,>=2.12->tensorflow<2.13,>=2.12.0->tensorflow-text==2.12.*) (4.9)\n",
            "Requirement already satisfied: requests-oauthlib>=0.7.0 in /usr/local/lib/python3.10/dist-packages (from google-auth-oauthlib<1.1,>=0.5->tensorboard<2.13,>=2.12->tensorflow<2.13,>=2.12.0->tensorflow-text==2.12.*) (1.3.1)\n",
            "Requirement already satisfied: urllib3<1.27,>=1.21.1 in /usr/local/lib/python3.10/dist-packages (from requests<3,>=2.21.0->tensorboard<2.13,>=2.12->tensorflow<2.13,>=2.12.0->tensorflow-text==2.12.*) (1.26.15)\n",
            "Requirement already satisfied: certifi>=2017.4.17 in /usr/local/lib/python3.10/dist-packages (from requests<3,>=2.21.0->tensorboard<2.13,>=2.12->tensorflow<2.13,>=2.12.0->tensorflow-text==2.12.*) (2022.12.7)\n",
            "Requirement already satisfied: charset-normalizer~=2.0.0 in /usr/local/lib/python3.10/dist-packages (from requests<3,>=2.21.0->tensorboard<2.13,>=2.12->tensorflow<2.13,>=2.12.0->tensorflow-text==2.12.*) (2.0.12)\n",
            "Requirement already satisfied: idna<4,>=2.5 in /usr/local/lib/python3.10/dist-packages (from requests<3,>=2.21.0->tensorboard<2.13,>=2.12->tensorflow<2.13,>=2.12.0->tensorflow-text==2.12.*) (3.4)\n",
            "Requirement already satisfied: MarkupSafe>=2.1.1 in /usr/local/lib/python3.10/dist-packages (from werkzeug>=1.0.1->tensorboard<2.13,>=2.12->tensorflow<2.13,>=2.12.0->tensorflow-text==2.12.*) (2.1.2)\n",
            "Requirement already satisfied: pyasn1<0.6.0,>=0.4.6 in /usr/local/lib/python3.10/dist-packages (from pyasn1-modules>=0.2.1->google-auth<3,>=1.6.3->tensorboard<2.13,>=2.12->tensorflow<2.13,>=2.12.0->tensorflow-text==2.12.*) (0.5.0)\n",
            "Requirement already satisfied: oauthlib>=3.0.0 in /usr/local/lib/python3.10/dist-packages (from requests-oauthlib>=0.7.0->google-auth-oauthlib<1.1,>=0.5->tensorboard<2.13,>=2.12->tensorflow<2.13,>=2.12.0->tensorflow-text==2.12.*) (3.2.2)\n",
            "Installing collected packages: tensorflow-text\n",
            "Successfully installed tensorflow-text-2.12.1\n"
          ]
        }
      ]
    },
    {
      "cell_type": "code",
      "source": [
        "import tensorflow_text as text"
      ],
      "metadata": {
        "id": "az5uH-w0I390"
      },
      "execution_count": 114,
      "outputs": []
    },
    {
      "cell_type": "code",
      "source": [
        "!pip install -q tf.models-official"
      ],
      "metadata": {
        "colab": {
          "base_uri": "https://localhost:8080/"
        },
        "id": "1fS91Nb5I3yw",
        "outputId": "bbeb8ada-a851-421d-8b8f-4e44bba6ad3d"
      },
      "execution_count": 115,
      "outputs": [
        {
          "output_type": "stream",
          "name": "stdout",
          "text": [
            "\u001b[2K     \u001b[90m━━━━━━━━━━━━━━━━━━━━━━━━━━━━━━━━━━━━━━━━\u001b[0m \u001b[32m2.6/2.6 MB\u001b[0m \u001b[31m25.1 MB/s\u001b[0m eta \u001b[36m0:00:00\u001b[0m\n",
            "\u001b[2K     \u001b[90m━━━━━━━━━━━━━━━━━━━━━━━━━━━━━━━━━━━━━━\u001b[0m \u001b[32m175.1/175.1 kB\u001b[0m \u001b[31m17.5 MB/s\u001b[0m eta \u001b[36m0:00:00\u001b[0m\n",
            "\u001b[?25h  Installing build dependencies ... \u001b[?25l\u001b[?25hdone\n",
            "  Getting requirements to build wheel ... \u001b[?25l\u001b[?25hdone\n",
            "  Preparing metadata (pyproject.toml) ... \u001b[?25l\u001b[?25hdone\n",
            "\u001b[2K     \u001b[90m━━━━━━━━━━━━━━━━━━━━━━━━━━━━━━━━━━━━━━\u001b[0m \u001b[32m118.9/118.9 kB\u001b[0m \u001b[31m16.8 MB/s\u001b[0m eta \u001b[36m0:00:00\u001b[0m\n",
            "\u001b[2K     \u001b[90m━━━━━━━━━━━━━━━━━━━━━━━━━━━━━━━━━━━━━━━━\u001b[0m \u001b[32m1.3/1.3 MB\u001b[0m \u001b[31m79.3 MB/s\u001b[0m eta \u001b[36m0:00:00\u001b[0m\n",
            "\u001b[2K     \u001b[90m━━━━━━━━━━━━━━━━━━━━━━━━━━━━━━━━━━━━━━━━\u001b[0m \u001b[32m43.6/43.6 kB\u001b[0m \u001b[31m5.9 MB/s\u001b[0m eta \u001b[36m0:00:00\u001b[0m\n",
            "\u001b[?25h  Preparing metadata (setup.py) ... \u001b[?25l\u001b[?25hdone\n",
            "\u001b[2K     \u001b[90m━━━━━━━━━━━━━━━━━━━━━━━━━━━━━━━━━━━━━━\u001b[0m \u001b[32m591.0/591.0 kB\u001b[0m \u001b[31m44.7 MB/s\u001b[0m eta \u001b[36m0:00:00\u001b[0m\n",
            "\u001b[2K     \u001b[90m━━━━━━━━━━━━━━━━━━━━━━━━━━━━━━━━━━━━━━\u001b[0m \u001b[32m240.6/240.6 kB\u001b[0m \u001b[31m24.8 MB/s\u001b[0m eta \u001b[36m0:00:00\u001b[0m\n",
            "\u001b[2K     \u001b[90m━━━━━━━━━━━━━━━━━━━━━━━━━━━━━━━━━━━━━━━━\u001b[0m \u001b[32m17.1/17.1 MB\u001b[0m \u001b[31m51.6 MB/s\u001b[0m eta \u001b[36m0:00:00\u001b[0m\n",
            "\u001b[?25h  Building wheel for pyyaml (pyproject.toml) ... \u001b[?25l\u001b[?25hdone\n",
            "  Building wheel for seqeval (setup.py) ... \u001b[?25l\u001b[?25hdone\n"
          ]
        }
      ]
    },
    {
      "cell_type": "code",
      "source": [
        "import functools\n",
        "import os\n",
        "import shutil\n",
        "\n",
        "import tensorflow_hub as hub\n",
        "from official.nlp import optimization  # to create AdamW optimizer\n",
        "\n",
        "tf.get_logger().setLevel('ERROR')"
      ],
      "metadata": {
        "id": "6fuPWsztNNdR"
      },
      "execution_count": 117,
      "outputs": []
    },
    {
      "cell_type": "code",
      "source": [
        "bert_preprocess_model = hub.KerasLayer(tfhub_handle_preprocess)"
      ],
      "metadata": {
        "id": "nI8A092jNNCm"
      },
      "execution_count": 118,
      "outputs": []
    },
    {
      "cell_type": "code",
      "source": [
        "test_text = X_train[0]\n",
        "text_preprocessed = bert_preprocess_model([test_text])\n",
        "\n",
        "print(test_text)\n",
        "print(f'Keys       : {list(text_preprocessed.keys())}')\n",
        "print(f'Shape      : {text_preprocessed[\"input_word_ids\"].shape}')\n",
        "print(f'Word Ids   : {text_preprocessed[\"input_word_ids\"][0, :12]}')\n",
        "print(f'Input Mask : {text_preprocessed[\"input_mask\"][0, :12]}')\n",
        "print(f'Type Ids   : {text_preprocessed[\"input_type_ids\"][0, :12]}')"
      ],
      "metadata": {
        "colab": {
          "base_uri": "https://localhost:8080/"
        },
        "id": "Y7Ajv6WfNM0P",
        "outputId": "bb27f684-ab8f-41f5-b433-f249fcd6903d"
      },
      "execution_count": 119,
      "outputs": [
        {
          "output_type": "stream",
          "name": "stdout",
          "text": [
            "i miss talking to you\n",
            "Keys       : ['input_word_ids', 'input_type_ids', 'input_mask']\n",
            "Shape      : (1, 128)\n",
            "Word Ids   : [ 101 1045 3335 3331 2000 2017  102    0    0    0    0    0]\n",
            "Input Mask : [1 1 1 1 1 1 1 0 0 0 0 0]\n",
            "Type Ids   : [0 0 0 0 0 0 0 0 0 0 0 0]\n"
          ]
        }
      ]
    },
    {
      "cell_type": "code",
      "source": [
        "test_text = X_train[1]\n",
        "text_preprocessed = bert_preprocess_model([test_text])\n",
        "\n",
        "print(test_text)\n",
        "print(f'Keys       : {list(text_preprocessed.keys())}')\n",
        "print(f'Shape      : {text_preprocessed[\"input_word_ids\"].shape}')\n",
        "print(f'Word Ids   : {text_preprocessed[\"input_word_ids\"][0, :12]}')\n",
        "print(f'Input Mask : {text_preprocessed[\"input_mask\"][0, :12]}')\n",
        "print(f'Type Ids   : {text_preprocessed[\"input_type_ids\"][0, :12]}')"
      ],
      "metadata": {
        "colab": {
          "base_uri": "https://localhost:8080/"
        },
        "id": "EuULiqxhNgY5",
        "outputId": "48456682-338d-4a36-beca-cea979fb91fb"
      },
      "execution_count": 120,
      "outputs": [
        {
          "output_type": "stream",
          "name": "stdout",
          "text": [
            "i love the way you love but hate the way im supposed to love you back\n",
            "Keys       : ['input_word_ids', 'input_type_ids', 'input_mask']\n",
            "Shape      : (1, 128)\n",
            "Word Ids   : [  101  1045  2293  1996  2126  2017  2293  2021  5223  1996  2126 10047]\n",
            "Input Mask : [1 1 1 1 1 1 1 1 1 1 1 1]\n",
            "Type Ids   : [0 0 0 0 0 0 0 0 0 0 0 0]\n"
          ]
        }
      ]
    },
    {
      "cell_type": "code",
      "source": [
        "bert_model = hub.KerasLayer(tfhub_handle_encoder)"
      ],
      "metadata": {
        "id": "C-APLFB5NgJh"
      },
      "execution_count": 121,
      "outputs": []
    },
    {
      "cell_type": "code",
      "source": [
        "bert_results = bert_model(text_preprocessed)\n",
        "\n",
        "print(f'Loaded BERT: {tfhub_handle_encoder}')\n",
        "print(f'Pooled Outputs Shape:{bert_results[\"pooled_output\"].shape}')\n",
        "print(f'Pooled Outputs Values:{bert_results[\"pooled_output\"][0, :12]}')\n",
        "print(f'Sequence Outputs Shape:{bert_results[\"sequence_output\"].shape}')\n",
        "print(f'Sequence Outputs Values:{bert_results[\"sequence_output\"][0, :12]}')"
      ],
      "metadata": {
        "colab": {
          "base_uri": "https://localhost:8080/"
        },
        "id": "AoDfFHvRNf4N",
        "outputId": "bbe0bd08-6997-4c30-b7f6-70d401757317"
      },
      "execution_count": 122,
      "outputs": [
        {
          "output_type": "stream",
          "name": "stdout",
          "text": [
            "Loaded BERT: https://tfhub.dev/tensorflow/small_bert/bert_en_uncased_L-4_H-512_A-8/1\n",
            "Pooled Outputs Shape:(1, 512)\n",
            "Pooled Outputs Values:[ 0.9783648   0.9671675  -0.07663714  0.17565365  0.7512241   0.5262315\n",
            "  0.69633245 -0.98700315 -0.4942095  -0.9998692   0.06384287 -0.96004385]\n",
            "Sequence Outputs Shape:(1, 128, 512)\n",
            "Sequence Outputs Values:[[ 0.0140086  -0.4354632   1.2572222  ... -1.4829783   0.6828621\n",
            "   0.59009814]\n",
            " [ 0.7085488   0.39691657  0.36628348 ... -1.1383668   0.53740966\n",
            "  -0.04683883]\n",
            " [ 0.72564626  0.10178615  0.21924908 ... -1.459066   -0.5589173\n",
            "  -0.45191872]\n",
            " ...\n",
            " [-0.02621409  0.11257612 -1.6822671  ... -1.3854194   0.6136715\n",
            "   0.10328133]\n",
            " [-1.7394716  -1.262528    0.17053162 ...  0.18295574  0.2095122\n",
            "   0.4478798 ]\n",
            " [-0.26178575 -0.3784606   0.20619042 ... -0.52133125  1.593513\n",
            "  -0.6186781 ]]\n"
          ]
        }
      ]
    },
    {
      "cell_type": "code",
      "source": [
        "def build_classifier_model():\n",
        "  text_input = layers.Input(shape=(), dtype=tf.string, name='text')\n",
        "  preprocessing_layer = hub.KerasLayer(tfhub_handle_preprocess, name='preprocessing')\n",
        "  encoder_inputs = preprocessing_layer(text_input)\n",
        "  encoder = hub.KerasLayer(tfhub_handle_encoder, trainable=True, name='BERT_encoder')\n",
        "  outputs = encoder(encoder_inputs)\n",
        "  net = outputs['pooled_output']\n",
        "  net = layers.Dense(256, activation='relu', name='dense-256')(net)\n",
        "  #net = layers.Dense(128, activation='relu', name='dense-128')(net)\n",
        "  net = layers.Dropout(0.1)(net)\n",
        "  net = layers.Dense(32, activation='relu', name='dense-32')(net)\n",
        "  net = layers.Dropout(0.1)(net)\n",
        "  net = layers.Dense(1, activation='sigmoid', name='classifier')(net)\n",
        "  return tf.keras.Model(text_input, net)"
      ],
      "metadata": {
        "id": "tJ6IYWMpNfj6"
      },
      "execution_count": 123,
      "outputs": []
    },
    {
      "cell_type": "code",
      "source": [
        "BATCH_SIZE = 16\n",
        "EPOCHS = 3"
      ],
      "metadata": {
        "id": "5MV3-YRcNlls"
      },
      "execution_count": 131,
      "outputs": []
    },
    {
      "cell_type": "code",
      "source": [
        "classifier_model = build_classifier_model()\n",
        "bert_raw_result = classifier_model(tf.constant([test_text]))\n",
        "print(tf.sigmoid(bert_raw_result))"
      ],
      "metadata": {
        "colab": {
          "base_uri": "https://localhost:8080/"
        },
        "id": "coWU-uKANlPN",
        "outputId": "82f35f8d-5e72-4b80-affd-d95ce0a22fa2"
      },
      "execution_count": 132,
      "outputs": [
        {
          "output_type": "stream",
          "name": "stdout",
          "text": [
            "tf.Tensor([[0.6039493]], shape=(1, 1), dtype=float32)\n"
          ]
        }
      ]
    },
    {
      "cell_type": "code",
      "source": [
        "loss = tf.keras.losses.BinaryCrossentropy(from_logits=False)"
      ],
      "metadata": {
        "id": "Z4eEMIajNrwe"
      },
      "execution_count": 133,
      "outputs": []
    },
    {
      "cell_type": "code",
      "source": [
        "steps_per_epoch = X_train.shape[0] / BATCH_SIZE\n",
        "num_train_steps = steps_per_epoch * EPOCHS\n",
        "num_warmup_steps = int(0.1*num_train_steps)\n",
        "\n",
        "init_lr = 3e-5\n",
        "optimizer = optimization.create_optimizer(init_lr=init_lr,\n",
        "                                          num_train_steps=num_train_steps,\n",
        "                                          num_warmup_steps=num_warmup_steps,\n",
        "                                          optimizer_type='adamw')"
      ],
      "metadata": {
        "id": "3XF68L7SNrhR"
      },
      "execution_count": 134,
      "outputs": []
    },
    {
      "cell_type": "code",
      "source": [
        "classifier_model.compile(optimizer=optimizer,\n",
        "                         loss=loss,\n",
        "                         metrics=['accuracy'])"
      ],
      "metadata": {
        "id": "xWxB_x-4NrRt"
      },
      "execution_count": 135,
      "outputs": []
    },
    {
      "cell_type": "code",
      "source": [
        "classifier_model.summary()"
      ],
      "metadata": {
        "colab": {
          "base_uri": "https://localhost:8080/"
        },
        "id": "7LxKUTq2N0JF",
        "outputId": "0678647f-3b14-42b4-ab2a-c8961032c983"
      },
      "execution_count": 136,
      "outputs": [
        {
          "output_type": "stream",
          "name": "stdout",
          "text": [
            "Model: \"model_1\"\n",
            "__________________________________________________________________________________________________\n",
            " Layer (type)                   Output Shape         Param #     Connected to                     \n",
            "==================================================================================================\n",
            " text (InputLayer)              [(None,)]            0           []                               \n",
            "                                                                                                  \n",
            " preprocessing (KerasLayer)     {'input_mask': (Non  0           ['text[0][0]']                   \n",
            "                                e, 128),                                                          \n",
            "                                 'input_type_ids':                                                \n",
            "                                (None, 128),                                                      \n",
            "                                 'input_word_ids':                                                \n",
            "                                (None, 128)}                                                      \n",
            "                                                                                                  \n",
            " BERT_encoder (KerasLayer)      {'default': (None,   28763649    ['preprocessing[0][0]',          \n",
            "                                512),                             'preprocessing[0][1]',          \n",
            "                                 'pooled_output': (               'preprocessing[0][2]']          \n",
            "                                None, 512),                                                       \n",
            "                                 'sequence_output':                                               \n",
            "                                 (None, 128, 512),                                                \n",
            "                                 'encoder_outputs':                                               \n",
            "                                 [(None, 128, 512),                                               \n",
            "                                 (None, 128, 512),                                                \n",
            "                                 (None, 128, 512),                                                \n",
            "                                 (None, 128, 512)]}                                               \n",
            "                                                                                                  \n",
            " dense-256 (Dense)              (None, 256)          131328      ['BERT_encoder[0][5]']           \n",
            "                                                                                                  \n",
            " dropout_6 (Dropout)            (None, 256)          0           ['dense-256[0][0]']              \n",
            "                                                                                                  \n",
            " dense-32 (Dense)               (None, 32)           8224        ['dropout_6[0][0]']              \n",
            "                                                                                                  \n",
            " dropout_7 (Dropout)            (None, 32)           0           ['dense-32[0][0]']               \n",
            "                                                                                                  \n",
            " classifier (Dense)             (None, 1)            33          ['dropout_7[0][0]']              \n",
            "                                                                                                  \n",
            "==================================================================================================\n",
            "Total params: 28,903,234\n",
            "Trainable params: 28,903,233\n",
            "Non-trainable params: 1\n",
            "__________________________________________________________________________________________________\n"
          ]
        }
      ]
    },
    {
      "cell_type": "code",
      "source": [
        "history = classifier_model.fit(x=X_train,\n",
        "                               y=y_train,\n",
        "                               epochs=EPOCHS,\n",
        "                               batch_size=BATCH_SIZE,\n",
        "                               validation_data=(X_val, y_val))"
      ],
      "metadata": {
        "colab": {
          "base_uri": "https://localhost:8080/"
        },
        "id": "o3r_D_KnNzxi",
        "outputId": "dd07f87a-e2ad-466f-adbd-26cae7cadddb"
      },
      "execution_count": 137,
      "outputs": [
        {
          "output_type": "stream",
          "name": "stdout",
          "text": [
            "Epoch 1/3\n",
            "16000/16000 [==============================] - 2178s 136ms/step - loss: 0.4538 - accuracy: 0.7863 - val_loss: 0.3972 - val_accuracy: 0.8222\n",
            "Epoch 2/3\n",
            "16000/16000 [==============================] - 2164s 135ms/step - loss: 0.3724 - accuracy: 0.8376 - val_loss: 0.3901 - val_accuracy: 0.8305\n",
            "Epoch 3/3\n",
            "16000/16000 [==============================] - 2222s 139ms/step - loss: 0.3255 - accuracy: 0.8627 - val_loss: 0.4101 - val_accuracy: 0.8312\n"
          ]
        }
      ]
    },
    {
      "cell_type": "markdown",
      "source": [
        "Evaluate"
      ],
      "metadata": {
        "id": "-eEO1bQgHr_6"
      }
    },
    {
      "cell_type": "code",
      "source": [
        "plt.figure(figsize=(10, 8))\n",
        "\n",
        "plt.plot(history.history['accuracy'])\n",
        "plt.plot(history.history['val_accuracy'])\n",
        "plt.legend(['train', 'test'], loc='right')\n",
        "\n",
        "plt.show()"
      ],
      "metadata": {
        "colab": {
          "base_uri": "https://localhost:8080/",
          "height": 676
        },
        "id": "i6E2xgtDHs44",
        "outputId": "66bb3e38-ac2e-4a65-aaaf-6cee85f41653"
      },
      "execution_count": 138,
      "outputs": [
        {
          "output_type": "display_data",
          "data": {
            "text/plain": [
              "<Figure size 1000x800 with 1 Axes>"
            ],
            "image/png": "[encoded data removed]"
          },
          "metadata": {}
        }
      ]
    },
    {
      "cell_type": "code",
      "execution_count": 139,
      "metadata": {
        "id": "DWTy28EXWEQT",
        "colab": {
          "base_uri": "https://localhost:8080/"
        },
        "outputId": "c53057f5-cdc2-487a-d399-1461ba6c9f71"
      },
      "outputs": [
        {
          "output_type": "stream",
          "name": "stdout",
          "text": [
            "2000/2000 [==============================] - 240s 120ms/step - loss: 0.4101 - accuracy: 0.8312\n"
          ]
        }
      ],
      "source": [
        "loss, accuracy = classifier_model.evaluate(X_val, y_val)"
      ]
    },
    {
      "cell_type": "code",
      "execution_count": 140,
      "metadata": {
        "id": "shA_XiO0WQF0",
        "colab": {
          "base_uri": "https://localhost:8080/"
        },
        "outputId": "0dbbbbfc-5cbb-4eda-cb27-b69c3a664176"
      },
      "outputs": [
        {
          "output_type": "stream",
          "name": "stdout",
          "text": [
            "2000/2000 [==============================] - 224s 112ms/step\n"
          ]
        }
      ],
      "source": [
        "y_pred = classifier_model.predict(X_val)"
      ]
    },
    {
      "cell_type": "code",
      "source": [
        "y_pred = (y_pred >= 0.5).astype(int)"
      ],
      "metadata": {
        "id": "qBB8swxvtkOj"
      },
      "execution_count": 141,
      "outputs": []
    },
    {
      "cell_type": "code",
      "source": [
        "print(loss, accuracy)"
      ],
      "metadata": {
        "id": "cOTKqYMv7Xp1",
        "colab": {
          "base_uri": "https://localhost:8080/"
        },
        "outputId": "8492e12c-c4d2-473f-9c4e-5ccc335a364b"
      },
      "execution_count": 142,
      "outputs": [
        {
          "output_type": "stream",
          "name": "stdout",
          "text": [
            "0.4101146459579468 0.8311718702316284\n"
          ]
        }
      ]
    },
    {
      "cell_type": "code",
      "execution_count": 143,
      "metadata": {
        "id": "I_HDP-ZJXl_f",
        "colab": {
          "base_uri": "https://localhost:8080/"
        },
        "outputId": "b95bbf8a-f271-4f14-f382-a8175f2d9156"
      },
      "outputs": [
        {
          "output_type": "stream",
          "name": "stdout",
          "text": [
            "              precision    recall  f1-score   support\n",
            "\n",
            "           0       0.82      0.85      0.83     32066\n",
            "           1       0.84      0.81      0.83     31934\n",
            "\n",
            "    accuracy                           0.83     64000\n",
            "   macro avg       0.83      0.83      0.83     64000\n",
            "weighted avg       0.83      0.83      0.83     64000\n",
            "\n"
          ]
        }
      ],
      "source": [
        "print(classification_report(y_val, y_pred))"
      ]
    },
    {
      "cell_type": "code",
      "execution_count": 144,
      "metadata": {
        "id": "KnbHq6G6Xl_f"
      },
      "outputs": [],
      "source": [
        "fpr, tpr, thresholds = roc_curve(y_val, y_pred)\n",
        "roc_auc = auc(fpr, tpr)"
      ]
    },
    {
      "cell_type": "code",
      "source": [
        "accuracy_score(y_val, y_pred)"
      ],
      "metadata": {
        "id": "0905bUAUXl_f",
        "colab": {
          "base_uri": "https://localhost:8080/"
        },
        "outputId": "7b948d78-e1cf-4d44-8a33-b25a84647471"
      },
      "execution_count": 145,
      "outputs": [
        {
          "output_type": "execute_result",
          "data": {
            "text/plain": [
              "0.831171875"
            ]
          },
          "metadata": {},
          "execution_count": 145
        }
      ]
    }
  ]
}